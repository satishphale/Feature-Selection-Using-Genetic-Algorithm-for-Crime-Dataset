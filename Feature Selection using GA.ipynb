{
 "cells": [
  {
   "cell_type": "markdown",
   "metadata": {},
   "source": [
    "# Using Genetic Algorithms for Feature Selection"
   ]
  },
  {
   "cell_type": "markdown",
   "metadata": {},
   "source": [
    "This notebook is an example implementation of a simple Genetic Algorithm applied to feature selection. It will be using the <a href=\"http://archive.ics.uci.edu/ml/datasets/communities+and+crime\">Communities and Crime Dataset</a> from UCI Machine Learning, which has 122 attributes, aimining to use these attributes in order to predict the label (Per Capita Violent Crimes). We will use the Genetic Algorithm to select which of those 122 features are most relevant to this prediction. "
   ]
  },
  {
   "cell_type": "code",
   "execution_count": 82,
   "metadata": {},
   "outputs": [],
   "source": [
    "import pandas as pd\n",
    "import numpy as np\n",
    "from sklearn.ensemble import RandomForestRegressor\n",
    "from sklearn.model_selection import train_test_split\n",
    "from sklearn.metrics import mean_squared_error\n",
    "import random\n",
    "import seaborn as sb"
   ]
  },
  {
   "cell_type": "markdown",
   "metadata": {},
   "source": [
    "## Data Load"
   ]
  },
  {
   "cell_type": "code",
   "execution_count": 23,
   "metadata": {},
   "outputs": [
    {
     "data": {
      "text/html": [
       "<div>\n",
       "<style scoped>\n",
       "    .dataframe tbody tr th:only-of-type {\n",
       "        vertical-align: middle;\n",
       "    }\n",
       "\n",
       "    .dataframe tbody tr th {\n",
       "        vertical-align: top;\n",
       "    }\n",
       "\n",
       "    .dataframe thead th {\n",
       "        text-align: right;\n",
       "    }\n",
       "</style>\n",
       "<table border=\"1\" class=\"dataframe\">\n",
       "  <thead>\n",
       "    <tr style=\"text-align: right;\">\n",
       "      <th></th>\n",
       "      <th>0</th>\n",
       "      <th>1</th>\n",
       "      <th>2</th>\n",
       "      <th>3</th>\n",
       "      <th>4</th>\n",
       "      <th>5</th>\n",
       "      <th>6</th>\n",
       "      <th>7</th>\n",
       "      <th>8</th>\n",
       "      <th>9</th>\n",
       "      <th>...</th>\n",
       "      <th>118</th>\n",
       "      <th>119</th>\n",
       "      <th>120</th>\n",
       "      <th>121</th>\n",
       "      <th>122</th>\n",
       "      <th>123</th>\n",
       "      <th>124</th>\n",
       "      <th>125</th>\n",
       "      <th>126</th>\n",
       "      <th>127</th>\n",
       "    </tr>\n",
       "  </thead>\n",
       "  <tbody>\n",
       "    <tr>\n",
       "      <th>0</th>\n",
       "      <td>8</td>\n",
       "      <td>?</td>\n",
       "      <td>?</td>\n",
       "      <td>Lakewoodcity</td>\n",
       "      <td>1</td>\n",
       "      <td>0.19</td>\n",
       "      <td>0.33</td>\n",
       "      <td>0.02</td>\n",
       "      <td>0.90</td>\n",
       "      <td>0.12</td>\n",
       "      <td>...</td>\n",
       "      <td>0.12</td>\n",
       "      <td>0.26</td>\n",
       "      <td>0.20</td>\n",
       "      <td>0.06</td>\n",
       "      <td>0.04</td>\n",
       "      <td>0.9</td>\n",
       "      <td>0.5</td>\n",
       "      <td>0.32</td>\n",
       "      <td>0.14</td>\n",
       "      <td>0.20</td>\n",
       "    </tr>\n",
       "    <tr>\n",
       "      <th>1</th>\n",
       "      <td>53</td>\n",
       "      <td>?</td>\n",
       "      <td>?</td>\n",
       "      <td>Tukwilacity</td>\n",
       "      <td>1</td>\n",
       "      <td>0.00</td>\n",
       "      <td>0.16</td>\n",
       "      <td>0.12</td>\n",
       "      <td>0.74</td>\n",
       "      <td>0.45</td>\n",
       "      <td>...</td>\n",
       "      <td>0.02</td>\n",
       "      <td>0.12</td>\n",
       "      <td>0.45</td>\n",
       "      <td>?</td>\n",
       "      <td>?</td>\n",
       "      <td>?</td>\n",
       "      <td>?</td>\n",
       "      <td>0.00</td>\n",
       "      <td>?</td>\n",
       "      <td>0.67</td>\n",
       "    </tr>\n",
       "    <tr>\n",
       "      <th>2</th>\n",
       "      <td>24</td>\n",
       "      <td>?</td>\n",
       "      <td>?</td>\n",
       "      <td>Aberdeentown</td>\n",
       "      <td>1</td>\n",
       "      <td>0.00</td>\n",
       "      <td>0.42</td>\n",
       "      <td>0.49</td>\n",
       "      <td>0.56</td>\n",
       "      <td>0.17</td>\n",
       "      <td>...</td>\n",
       "      <td>0.01</td>\n",
       "      <td>0.21</td>\n",
       "      <td>0.02</td>\n",
       "      <td>?</td>\n",
       "      <td>?</td>\n",
       "      <td>?</td>\n",
       "      <td>?</td>\n",
       "      <td>0.00</td>\n",
       "      <td>?</td>\n",
       "      <td>0.43</td>\n",
       "    </tr>\n",
       "    <tr>\n",
       "      <th>3</th>\n",
       "      <td>34</td>\n",
       "      <td>5</td>\n",
       "      <td>81440</td>\n",
       "      <td>Willingborotownship</td>\n",
       "      <td>1</td>\n",
       "      <td>0.04</td>\n",
       "      <td>0.77</td>\n",
       "      <td>1.00</td>\n",
       "      <td>0.08</td>\n",
       "      <td>0.12</td>\n",
       "      <td>...</td>\n",
       "      <td>0.02</td>\n",
       "      <td>0.39</td>\n",
       "      <td>0.28</td>\n",
       "      <td>?</td>\n",
       "      <td>?</td>\n",
       "      <td>?</td>\n",
       "      <td>?</td>\n",
       "      <td>0.00</td>\n",
       "      <td>?</td>\n",
       "      <td>0.12</td>\n",
       "    </tr>\n",
       "    <tr>\n",
       "      <th>4</th>\n",
       "      <td>42</td>\n",
       "      <td>95</td>\n",
       "      <td>6096</td>\n",
       "      <td>Bethlehemtownship</td>\n",
       "      <td>1</td>\n",
       "      <td>0.01</td>\n",
       "      <td>0.55</td>\n",
       "      <td>0.02</td>\n",
       "      <td>0.95</td>\n",
       "      <td>0.09</td>\n",
       "      <td>...</td>\n",
       "      <td>0.04</td>\n",
       "      <td>0.09</td>\n",
       "      <td>0.02</td>\n",
       "      <td>?</td>\n",
       "      <td>?</td>\n",
       "      <td>?</td>\n",
       "      <td>?</td>\n",
       "      <td>0.00</td>\n",
       "      <td>?</td>\n",
       "      <td>0.03</td>\n",
       "    </tr>\n",
       "  </tbody>\n",
       "</table>\n",
       "<p>5 rows × 128 columns</p>\n",
       "</div>"
      ],
      "text/plain": [
       "   0   1      2                    3    4     5     6     7     8     9    \\\n",
       "0    8   ?      ?         Lakewoodcity    1  0.19  0.33  0.02  0.90  0.12   \n",
       "1   53   ?      ?          Tukwilacity    1  0.00  0.16  0.12  0.74  0.45   \n",
       "2   24   ?      ?         Aberdeentown    1  0.00  0.42  0.49  0.56  0.17   \n",
       "3   34   5  81440  Willingborotownship    1  0.04  0.77  1.00  0.08  0.12   \n",
       "4   42  95   6096    Bethlehemtownship    1  0.01  0.55  0.02  0.95  0.09   \n",
       "\n",
       "   ...    118   119   120   121   122  123  124   125   126   127  \n",
       "0  ...   0.12  0.26  0.20  0.06  0.04  0.9  0.5  0.32  0.14  0.20  \n",
       "1  ...   0.02  0.12  0.45     ?     ?    ?    ?  0.00     ?  0.67  \n",
       "2  ...   0.01  0.21  0.02     ?     ?    ?    ?  0.00     ?  0.43  \n",
       "3  ...   0.02  0.39  0.28     ?     ?    ?    ?  0.00     ?  0.12  \n",
       "4  ...   0.04  0.09  0.02     ?     ?    ?    ?  0.00     ?  0.03  \n",
       "\n",
       "[5 rows x 128 columns]"
      ]
     },
     "execution_count": 23,
     "metadata": {},
     "output_type": "execute_result"
    }
   ],
   "source": [
    "df = pd.read_csv(\"communities.data\", header=None)\n",
    "df.head()"
   ]
  },
  {
   "cell_type": "markdown",
   "metadata": {},
   "source": [
    "The data file does not contain the headers, but they can be extracted from the additional file \"communities.names\""
   ]
  },
  {
   "cell_type": "code",
   "execution_count": 24,
   "metadata": {},
   "outputs": [],
   "source": [
    "file = open(\"communities.names\")\n",
    "header = []\n",
    "for line in file:\n",
    "    if \"@attribute\" in line: \n",
    "        header.append(line.split(\" \")[1])"
   ]
  },
  {
   "cell_type": "code",
   "execution_count": 25,
   "metadata": {},
   "outputs": [
    {
     "data": {
      "text/html": [
       "<div>\n",
       "<style scoped>\n",
       "    .dataframe tbody tr th:only-of-type {\n",
       "        vertical-align: middle;\n",
       "    }\n",
       "\n",
       "    .dataframe tbody tr th {\n",
       "        vertical-align: top;\n",
       "    }\n",
       "\n",
       "    .dataframe thead th {\n",
       "        text-align: right;\n",
       "    }\n",
       "</style>\n",
       "<table border=\"1\" class=\"dataframe\">\n",
       "  <thead>\n",
       "    <tr style=\"text-align: right;\">\n",
       "      <th></th>\n",
       "      <th>state</th>\n",
       "      <th>county</th>\n",
       "      <th>community</th>\n",
       "      <th>communityname</th>\n",
       "      <th>fold</th>\n",
       "      <th>population</th>\n",
       "      <th>householdsize</th>\n",
       "      <th>racepctblack</th>\n",
       "      <th>racePctWhite</th>\n",
       "      <th>racePctAsian</th>\n",
       "      <th>...</th>\n",
       "      <th>LandArea</th>\n",
       "      <th>PopDens</th>\n",
       "      <th>PctUsePubTrans</th>\n",
       "      <th>PolicCars</th>\n",
       "      <th>PolicOperBudg</th>\n",
       "      <th>LemasPctPolicOnPatr</th>\n",
       "      <th>LemasGangUnitDeploy</th>\n",
       "      <th>LemasPctOfficDrugUn</th>\n",
       "      <th>PolicBudgPerPop</th>\n",
       "      <th>ViolentCrimesPerPop</th>\n",
       "    </tr>\n",
       "  </thead>\n",
       "  <tbody>\n",
       "    <tr>\n",
       "      <th>0</th>\n",
       "      <td>8</td>\n",
       "      <td>?</td>\n",
       "      <td>?</td>\n",
       "      <td>Lakewoodcity</td>\n",
       "      <td>1</td>\n",
       "      <td>0.19</td>\n",
       "      <td>0.33</td>\n",
       "      <td>0.02</td>\n",
       "      <td>0.90</td>\n",
       "      <td>0.12</td>\n",
       "      <td>...</td>\n",
       "      <td>0.12</td>\n",
       "      <td>0.26</td>\n",
       "      <td>0.20</td>\n",
       "      <td>0.06</td>\n",
       "      <td>0.04</td>\n",
       "      <td>0.9</td>\n",
       "      <td>0.5</td>\n",
       "      <td>0.32</td>\n",
       "      <td>0.14</td>\n",
       "      <td>0.20</td>\n",
       "    </tr>\n",
       "    <tr>\n",
       "      <th>1</th>\n",
       "      <td>53</td>\n",
       "      <td>?</td>\n",
       "      <td>?</td>\n",
       "      <td>Tukwilacity</td>\n",
       "      <td>1</td>\n",
       "      <td>0.00</td>\n",
       "      <td>0.16</td>\n",
       "      <td>0.12</td>\n",
       "      <td>0.74</td>\n",
       "      <td>0.45</td>\n",
       "      <td>...</td>\n",
       "      <td>0.02</td>\n",
       "      <td>0.12</td>\n",
       "      <td>0.45</td>\n",
       "      <td>?</td>\n",
       "      <td>?</td>\n",
       "      <td>?</td>\n",
       "      <td>?</td>\n",
       "      <td>0.00</td>\n",
       "      <td>?</td>\n",
       "      <td>0.67</td>\n",
       "    </tr>\n",
       "    <tr>\n",
       "      <th>2</th>\n",
       "      <td>24</td>\n",
       "      <td>?</td>\n",
       "      <td>?</td>\n",
       "      <td>Aberdeentown</td>\n",
       "      <td>1</td>\n",
       "      <td>0.00</td>\n",
       "      <td>0.42</td>\n",
       "      <td>0.49</td>\n",
       "      <td>0.56</td>\n",
       "      <td>0.17</td>\n",
       "      <td>...</td>\n",
       "      <td>0.01</td>\n",
       "      <td>0.21</td>\n",
       "      <td>0.02</td>\n",
       "      <td>?</td>\n",
       "      <td>?</td>\n",
       "      <td>?</td>\n",
       "      <td>?</td>\n",
       "      <td>0.00</td>\n",
       "      <td>?</td>\n",
       "      <td>0.43</td>\n",
       "    </tr>\n",
       "    <tr>\n",
       "      <th>3</th>\n",
       "      <td>34</td>\n",
       "      <td>5</td>\n",
       "      <td>81440</td>\n",
       "      <td>Willingborotownship</td>\n",
       "      <td>1</td>\n",
       "      <td>0.04</td>\n",
       "      <td>0.77</td>\n",
       "      <td>1.00</td>\n",
       "      <td>0.08</td>\n",
       "      <td>0.12</td>\n",
       "      <td>...</td>\n",
       "      <td>0.02</td>\n",
       "      <td>0.39</td>\n",
       "      <td>0.28</td>\n",
       "      <td>?</td>\n",
       "      <td>?</td>\n",
       "      <td>?</td>\n",
       "      <td>?</td>\n",
       "      <td>0.00</td>\n",
       "      <td>?</td>\n",
       "      <td>0.12</td>\n",
       "    </tr>\n",
       "    <tr>\n",
       "      <th>4</th>\n",
       "      <td>42</td>\n",
       "      <td>95</td>\n",
       "      <td>6096</td>\n",
       "      <td>Bethlehemtownship</td>\n",
       "      <td>1</td>\n",
       "      <td>0.01</td>\n",
       "      <td>0.55</td>\n",
       "      <td>0.02</td>\n",
       "      <td>0.95</td>\n",
       "      <td>0.09</td>\n",
       "      <td>...</td>\n",
       "      <td>0.04</td>\n",
       "      <td>0.09</td>\n",
       "      <td>0.02</td>\n",
       "      <td>?</td>\n",
       "      <td>?</td>\n",
       "      <td>?</td>\n",
       "      <td>?</td>\n",
       "      <td>0.00</td>\n",
       "      <td>?</td>\n",
       "      <td>0.03</td>\n",
       "    </tr>\n",
       "  </tbody>\n",
       "</table>\n",
       "<p>5 rows × 128 columns</p>\n",
       "</div>"
      ],
      "text/plain": [
       "   state county community        communityname  fold  population  \\\n",
       "0      8      ?         ?         Lakewoodcity     1        0.19   \n",
       "1     53      ?         ?          Tukwilacity     1        0.00   \n",
       "2     24      ?         ?         Aberdeentown     1        0.00   \n",
       "3     34      5     81440  Willingborotownship     1        0.04   \n",
       "4     42     95      6096    Bethlehemtownship     1        0.01   \n",
       "\n",
       "   householdsize  racepctblack  racePctWhite  racePctAsian  \\\n",
       "0           0.33          0.02          0.90          0.12   \n",
       "1           0.16          0.12          0.74          0.45   \n",
       "2           0.42          0.49          0.56          0.17   \n",
       "3           0.77          1.00          0.08          0.12   \n",
       "4           0.55          0.02          0.95          0.09   \n",
       "\n",
       "          ...           LandArea  PopDens  PctUsePubTrans  PolicCars  \\\n",
       "0         ...               0.12     0.26            0.20       0.06   \n",
       "1         ...               0.02     0.12            0.45          ?   \n",
       "2         ...               0.01     0.21            0.02          ?   \n",
       "3         ...               0.02     0.39            0.28          ?   \n",
       "4         ...               0.04     0.09            0.02          ?   \n",
       "\n",
       "   PolicOperBudg  LemasPctPolicOnPatr  LemasGangUnitDeploy  \\\n",
       "0           0.04                  0.9                  0.5   \n",
       "1              ?                    ?                    ?   \n",
       "2              ?                    ?                    ?   \n",
       "3              ?                    ?                    ?   \n",
       "4              ?                    ?                    ?   \n",
       "\n",
       "   LemasPctOfficDrugUn  PolicBudgPerPop  ViolentCrimesPerPop  \n",
       "0                 0.32             0.14                 0.20  \n",
       "1                 0.00                ?                 0.67  \n",
       "2                 0.00                ?                 0.43  \n",
       "3                 0.00                ?                 0.12  \n",
       "4                 0.00                ?                 0.03  \n",
       "\n",
       "[5 rows x 128 columns]"
      ]
     },
     "execution_count": 25,
     "metadata": {},
     "output_type": "execute_result"
    }
   ],
   "source": [
    "df.columns = header\n",
    "df.head()"
   ]
  },
  {
   "cell_type": "markdown",
   "metadata": {},
   "source": [
    "Let's now remove the non-predictive columns:"
   ]
  },
  {
   "cell_type": "code",
   "execution_count": 26,
   "metadata": {},
   "outputs": [
    {
     "data": {
      "text/plain": [
       "(1994, 123)"
      ]
     },
     "execution_count": 26,
     "metadata": {},
     "output_type": "execute_result"
    }
   ],
   "source": [
    "df = df.drop([\"state\", \"county\", \"community\", \"communityname\", \"fold\"], axis=1)\n",
    "df.shape"
   ]
  },
  {
   "cell_type": "markdown",
   "metadata": {},
   "source": [
    "## Data Processing"
   ]
  },
  {
   "cell_type": "markdown",
   "metadata": {},
   "source": [
    "Before moving on to the GA, it's importante to make sure that any missing values have been dealt with. In this dataset, missing values are represented with a question mark. "
   ]
  },
  {
   "cell_type": "code",
   "execution_count": 27,
   "metadata": {},
   "outputs": [],
   "source": [
    "missing_value_rows = []\n",
    "for i in range(df.shape[0]):\n",
    "    if \"?\" in list(df.iloc[i].values):\n",
    "        missing_value_rows.append(i)"
   ]
  },
  {
   "cell_type": "code",
   "execution_count": 28,
   "metadata": {},
   "outputs": [
    {
     "name": "stdout",
     "output_type": "stream",
     "text": [
      "Total rows: 1994\n",
      "Rows with missing values: 1675\n"
     ]
    }
   ],
   "source": [
    "print(\"Total rows: \" + str(df.shape[0]))\n",
    "print(\"Rows with missing values: \" + str(len(missing_value_rows)))"
   ]
  },
  {
   "cell_type": "markdown",
   "metadata": {},
   "source": [
    "As seen above, most rows contain missing values, meaning we can't just get rid of all of them. Let's see what columns have the most missing values. "
   ]
  },
  {
   "cell_type": "code",
   "execution_count": 29,
   "metadata": {},
   "outputs": [
    {
     "name": "stderr",
     "output_type": "stream",
     "text": [
      "/usr/local/lib/python3.6/site-packages/pandas/core/ops.py:816: FutureWarning: elementwise comparison failed; returning scalar instead, but in the future will perform elementwise comparison\n",
      "  result = getattr(x, name)(y)\n"
     ]
    },
    {
     "data": {
      "text/plain": [
       "[('LemasSwornFT', 1675),\n",
       " ('LemasSwFTPerPop', 1675),\n",
       " ('LemasSwFTFieldOps', 1675),\n",
       " ('LemasSwFTFieldPerPop', 1675),\n",
       " ('LemasTotalReq', 1675),\n",
       " ('LemasTotReqPerPop', 1675),\n",
       " ('PolicReqPerOffic', 1675),\n",
       " ('PolicPerPop', 1675),\n",
       " ('RacialMatchCommPol', 1675),\n",
       " ('PctPolicWhite', 1675),\n",
       " ('PctPolicBlack', 1675),\n",
       " ('PctPolicHisp', 1675),\n",
       " ('PctPolicAsian', 1675),\n",
       " ('PctPolicMinor', 1675),\n",
       " ('OfficAssgnDrugUnits', 1675),\n",
       " ('NumKindsDrugsSeiz', 1675),\n",
       " ('PolicAveOTWorked', 1675),\n",
       " ('PolicCars', 1675),\n",
       " ('PolicOperBudg', 1675),\n",
       " ('LemasPctPolicOnPatr', 1675),\n",
       " ('LemasGangUnitDeploy', 1675),\n",
       " ('PolicBudgPerPop', 1675),\n",
       " ('OtherPerCap', 1),\n",
       " ('population', 0),\n",
       " ('householdsize', 0),\n",
       " ('racepctblack', 0),\n",
       " ('racePctWhite', 0),\n",
       " ('racePctAsian', 0),\n",
       " ('racePctHisp', 0),\n",
       " ('agePct12t21', 0),\n",
       " ('agePct12t29', 0),\n",
       " ('agePct16t24', 0),\n",
       " ('agePct65up', 0),\n",
       " ('numbUrban', 0),\n",
       " ('pctUrban', 0),\n",
       " ('medIncome', 0),\n",
       " ('pctWWage', 0),\n",
       " ('pctWFarmSelf', 0),\n",
       " ('pctWInvInc', 0),\n",
       " ('pctWSocSec', 0),\n",
       " ('pctWPubAsst', 0),\n",
       " ('pctWRetire', 0),\n",
       " ('medFamInc', 0),\n",
       " ('perCapInc', 0),\n",
       " ('whitePerCap', 0),\n",
       " ('blackPerCap', 0),\n",
       " ('indianPerCap', 0),\n",
       " ('AsianPerCap', 0),\n",
       " ('HispPerCap', 0),\n",
       " ('NumUnderPov', 0),\n",
       " ('PctPopUnderPov', 0),\n",
       " ('PctLess9thGrade', 0),\n",
       " ('PctNotHSGrad', 0),\n",
       " ('PctBSorMore', 0),\n",
       " ('PctUnemployed', 0),\n",
       " ('PctEmploy', 0),\n",
       " ('PctEmplManu', 0),\n",
       " ('PctEmplProfServ', 0),\n",
       " ('PctOccupManu', 0),\n",
       " ('PctOccupMgmtProf', 0),\n",
       " ('MalePctDivorce', 0),\n",
       " ('MalePctNevMarr', 0),\n",
       " ('FemalePctDiv', 0),\n",
       " ('TotalPctDiv', 0),\n",
       " ('PersPerFam', 0),\n",
       " ('PctFam2Par', 0),\n",
       " ('PctKids2Par', 0),\n",
       " ('PctYoungKids2Par', 0),\n",
       " ('PctTeen2Par', 0),\n",
       " ('PctWorkMomYoungKids', 0),\n",
       " ('PctWorkMom', 0),\n",
       " ('NumIlleg', 0),\n",
       " ('PctIlleg', 0),\n",
       " ('NumImmig', 0),\n",
       " ('PctImmigRecent', 0),\n",
       " ('PctImmigRec5', 0),\n",
       " ('PctImmigRec8', 0),\n",
       " ('PctImmigRec10', 0),\n",
       " ('PctRecentImmig', 0),\n",
       " ('PctRecImmig5', 0),\n",
       " ('PctRecImmig8', 0),\n",
       " ('PctRecImmig10', 0),\n",
       " ('PctSpeakEnglOnly', 0),\n",
       " ('PctNotSpeakEnglWell', 0),\n",
       " ('PctLargHouseFam', 0),\n",
       " ('PctLargHouseOccup', 0),\n",
       " ('PersPerOccupHous', 0),\n",
       " ('PersPerOwnOccHous', 0),\n",
       " ('PersPerRentOccHous', 0),\n",
       " ('PctPersOwnOccup', 0),\n",
       " ('PctPersDenseHous', 0),\n",
       " ('PctHousLess3BR', 0),\n",
       " ('MedNumBR', 0),\n",
       " ('HousVacant', 0),\n",
       " ('PctHousOccup', 0),\n",
       " ('PctHousOwnOcc', 0),\n",
       " ('PctVacantBoarded', 0),\n",
       " ('PctVacMore6Mos', 0),\n",
       " ('MedYrHousBuilt', 0),\n",
       " ('PctHousNoPhone', 0),\n",
       " ('PctWOFullPlumb', 0),\n",
       " ('OwnOccLowQuart', 0),\n",
       " ('OwnOccMedVal', 0),\n",
       " ('OwnOccHiQuart', 0),\n",
       " ('RentLowQ', 0),\n",
       " ('RentMedian', 0),\n",
       " ('RentHighQ', 0),\n",
       " ('MedRent', 0),\n",
       " ('MedRentPctHousInc', 0),\n",
       " ('MedOwnCostPctInc', 0),\n",
       " ('MedOwnCostPctIncNoMtg', 0),\n",
       " ('NumInShelters', 0),\n",
       " ('NumStreet', 0),\n",
       " ('PctForeignBorn', 0),\n",
       " ('PctBornSameState', 0),\n",
       " ('PctSameHouse85', 0),\n",
       " ('PctSameCity85', 0),\n",
       " ('PctSameState85', 0),\n",
       " ('LandArea', 0),\n",
       " ('PopDens', 0),\n",
       " ('PctUsePubTrans', 0),\n",
       " ('LemasPctOfficDrugUn', 0),\n",
       " ('ViolentCrimesPerPop', 0)]"
      ]
     },
     "execution_count": 29,
     "metadata": {},
     "output_type": "execute_result"
    }
   ],
   "source": [
    "missing_per_row = []\n",
    "for column in df.columns:\n",
    "    try:\n",
    "        count = df[df[column] == \"?\"].shape[0]\n",
    "    except Exception:\n",
    "        count = 0\n",
    "    missing_per_row.append((column, count))\n",
    "sorted(missing_per_row, key=lambda tup: tup[1], reverse=True)"
   ]
  },
  {
   "cell_type": "markdown",
   "metadata": {},
   "source": [
    "Seeing that most columns have no missing values and some columns have almost all missing values, it's best to just disregard such rows altogether and continue with the experiment. We will also drop the row with missing \"OtherPerCap\" information, but keep the column. "
   ]
  },
  {
   "cell_type": "code",
   "execution_count": 30,
   "metadata": {},
   "outputs": [
    {
     "data": {
      "text/plain": [
       "(1993, 101)"
      ]
     },
     "execution_count": 30,
     "metadata": {},
     "output_type": "execute_result"
    }
   ],
   "source": [
    "df = df[df[\"OtherPerCap\"] != \"?\"]\n",
    "columns_to_drop = [column for column, count in missing_per_row if count == 1675]\n",
    "df = df.drop(columns_to_drop, axis=1)\n",
    "df.shape"
   ]
  },
  {
   "cell_type": "markdown",
   "metadata": {},
   "source": [
    "We're left with 1993 rows, 100 features and 1 label."
   ]
  },
  {
   "cell_type": "markdown",
   "metadata": {},
   "source": [
    "## Genetic Algorithm"
   ]
  },
  {
   "cell_type": "markdown",
   "metadata": {},
   "source": [
    "The idea of the GA is simple: we'll build a binary array of 122 positions, one for each feature. Each bit will indicate if the corresponding feature should be used or not.\n",
    "  * **arr[i] == 0**: Leave out feature i\n",
    "  * **arr[i] == 1**: Include feature i\n",
    "\n",
    "We will create an initial population of N arrays, each with a random number of 0s and 1s, and we'll use evolution to find out what features bring about the best resuts."
   ]
  },
  {
   "cell_type": "markdown",
   "metadata": {},
   "source": [
    "### Fitness and Comparision"
   ]
  },
  {
   "cell_type": "markdown",
   "metadata": {},
   "source": [
    "We will compare individuals in our GA through a measure of fitness based on how well scikit-learn's standard RandomForestRegressor performs when trained using that specific individual's feature selection. We will measure the regressor's performance using the root mean squared error, and define fitness as 100 / that error in order to make sure fitness values are large and that better individuals have higher feature values."
   ]
  },
  {
   "cell_type": "markdown",
   "metadata": {},
   "source": [
    "First of all, we need to establish training and test sets."
   ]
  },
  {
   "cell_type": "code",
   "execution_count": 31,
   "metadata": {},
   "outputs": [
    {
     "name": "stderr",
     "output_type": "stream",
     "text": [
      "/usr/local/lib/python3.6/site-packages/sklearn/model_selection/_split.py:2026: FutureWarning: From version 0.21, test_size will always complement train_size unless both are specified.\n",
      "  FutureWarning)\n"
     ]
    }
   ],
   "source": [
    "X = df.drop(\"ViolentCrimesPerPop\", axis=1)\n",
    "y = df[\"ViolentCrimesPerPop\"]\n",
    "X_train, X_test, y_train, y_test = train_test_split(X, y, train_size=0.8, random_state=42)"
   ]
  },
  {
   "cell_type": "markdown",
   "metadata": {},
   "source": [
    "Now, we can build our fitness function:"
   ]
  },
  {
   "cell_type": "code",
   "execution_count": 32,
   "metadata": {},
   "outputs": [],
   "source": [
    "def get_fitness(individual):\n",
    "    rg = RandomForestRegressor(random_state=42)\n",
    "    columns = [column for (column, binary_value) in zip(X_train.columns, individual) if binary_value]\n",
    "    training_set = X_train[columns]\n",
    "    test_set = X_test[columns]\n",
    "    rg.fit(training_set.as_matrix(), y_train.values)\n",
    "    preds = rg.predict(test_set.as_matrix())\n",
    "    return 100 / np.sqrt(mean_squared_error(y_test.values, preds))"
   ]
  },
  {
   "cell_type": "markdown",
   "metadata": {},
   "source": [
    "And let's take down some baselines. The first, the fitness the model gets using all features:"
   ]
  },
  {
   "cell_type": "code",
   "execution_count": 33,
   "metadata": {},
   "outputs": [
    {
     "data": {
      "text/plain": [
       "685.518493323671"
      ]
     },
     "execution_count": 33,
     "metadata": {},
     "output_type": "execute_result"
    }
   ],
   "source": [
    "individual = [1] * 100\n",
    "get_fitness(individual)"
   ]
  },
  {
   "cell_type": "markdown",
   "metadata": {},
   "source": [
    "Now, let's get the score of a random feature selection:"
   ]
  },
  {
   "cell_type": "code",
   "execution_count": 34,
   "metadata": {},
   "outputs": [
    {
     "data": {
      "text/plain": [
       "667.2502967460375"
      ]
     },
     "execution_count": 34,
     "metadata": {},
     "output_type": "execute_result"
    }
   ],
   "source": [
    "random_individual = [random.randint(0, 1) for i in range(100)]\n",
    "get_fitness(random_individual)"
   ]
  },
  {
   "cell_type": "markdown",
   "metadata": {},
   "source": [
    "Interesting! The random individual and the full features have very similar fitness. Let's see how much better our GA can get. "
   ]
  },
  {
   "cell_type": "markdown",
   "metadata": {},
   "source": [
    "The population will be represented as a list of 2-dimensional tuples, their first attribute being the individual itself (the binary array) and the second the individual's fitness. Let's build a function that, given a number of individuals, returns their population and fitness array sorted in descending order."
   ]
  },
  {
   "cell_type": "code",
   "execution_count": 35,
   "metadata": {},
   "outputs": [],
   "source": [
    "def get_population_fitness(population):\n",
    "    return sorted([(individual, get_fitness(individual)) for individual in population], key=lambda tup: tup[1], reverse=True)"
   ]
  },
  {
   "cell_type": "markdown",
   "metadata": {},
   "source": [
    "### Genetic Operators"
   ]
  },
  {
   "cell_type": "markdown",
   "metadata": {},
   "source": [
    "Each iteration, we'll have a population of 20 individuals, based on which the next generation will be formed through the genetic operators as follows:\n",
    "  * **Elitism:** The fittest candidate will continue on to the next generation\n",
    "  * **Randomness**: One candidate will be selected completely randomly\n",
    "  * **Tournaments**: There will be 9 tournaments of 5 randomly selected individuals. In each tournament, two individuals will be chosen (with likelihood of being choosen proportionate to their fitness) for **crossover**. The crossover will split them at a random spot and combine them.\n",
    "  * **Mutation**: Finally, once the new population is formed, each individual will have a very small chance (1 in a thousand) of suffering mutation (having one random bit flipped). "
   ]
  },
  {
   "cell_type": "code",
   "execution_count": 88,
   "metadata": {},
   "outputs": [],
   "source": [
    "def crossover(individual_a, individual_b):\n",
    "    crossing_point = random.randint(0, 99)\n",
    "    offspring_a = individual_a[0:crossing_point] + individual_b[crossing_point:100]\n",
    "    offspring_b = individual_b[0:crossing_point] + individual_a[crossing_point:100]\n",
    "    return offspring_a, offspring_b\n",
    "\n",
    "def tournament(current_population):\n",
    "    index = sorted(random.sample(range(0, 20), 5))\n",
    "    tournament_members  = [current_population[i] for i in index]\n",
    "    total_fitness = sum([individual[1] for individual in tournament_members])\n",
    "    probabilities = [individual[1] / total_fitness for individual in tournament_members]\n",
    "    index_a, index_b = np.random.choice(5, size=2, p=probabilities)\n",
    "    return crossover(tournament_members[index_a][0], tournament_members[index_b][0])\n",
    "\n",
    "def mutation(individual):\n",
    "    mutation_point = random.randint(0, 99)\n",
    "    if(individual[mutation_point]):\n",
    "        individual[mutation_point] = 0\n",
    "    else:\n",
    "        individual[mutation_point] = 1\n",
    "\n",
    "def build_next_generation(current_population, mutation_rate):\n",
    "    next_generation = []\n",
    "    next_generation.append(current_population[0][0]) # elitism\n",
    "    next_generation.append(current_population[random.randint(1,19)][0]) # randomness\n",
    "    \n",
    "    for i in range(9): # tournaments\n",
    "        offspring_a, offspring_b = tournament(current_population)\n",
    "        next_generation.append(offspring_a)\n",
    "        next_generation.append(offspring_b)\n",
    "    \n",
    "    for individual in next_generation: # mutation\n",
    "        if(random.randint(1,mutation_rate) == 1):\n",
    "            mutation(individual)\n",
    "    return next_generation\n",
    "    \n",
    "    "
   ]
  },
  {
   "cell_type": "markdown",
   "metadata": {},
   "source": [
    "### Running the GA"
   ]
  },
  {
   "cell_type": "markdown",
   "metadata": {},
   "source": [
    "First, let's create a function that runs the GA given an initial population and a number of generations"
   ]
  },
  {
   "cell_type": "code",
   "execution_count": 90,
   "metadata": {},
   "outputs": [],
   "source": [
    "def run_ga(current_population, num_of_generations, mutation_rate=1000):\n",
    "    fittest_individuals = []\n",
    "    for i in range(num_of_generations):\n",
    "        current_population = get_population_fitness(current_population) # get pop fitness\n",
    "        fittest_individuals.append(current_population[0]) # record fittest individual (for graphing and analysis)\n",
    "        current_population = build_next_generation(current_population, mutation_rate) # make new population\n",
    "    return fittest_individuals\n",
    "        "
   ]
  },
  {
   "cell_type": "markdown",
   "metadata": {},
   "source": [
    "Now, let's generate an initial random population and make an initial run with 100 generations and see what results we get"
   ]
  },
  {
   "cell_type": "code",
   "execution_count": 74,
   "metadata": {},
   "outputs": [],
   "source": [
    "initial_population = [[random.randint(0, 1) for i in range(100)] for i in range(20)]"
   ]
  },
  {
   "cell_type": "code",
   "execution_count": 75,
   "metadata": {},
   "outputs": [],
   "source": [
    "fittest = run_ga(initial_population, 100)"
   ]
  },
  {
   "cell_type": "code",
   "execution_count": 84,
   "metadata": {},
   "outputs": [
    {
     "name": "stderr",
     "output_type": "stream",
     "text": [
      "/usr/local/lib/python3.6/site-packages/seaborn/timeseries.py:183: UserWarning: The tsplot function is deprecated and will be removed or replaced (in a substantially altered version) in a future release.\n",
      "  warnings.warn(msg, UserWarning)\n"
     ]
    },
    {
     "data": {
      "text/plain": [
       "<matplotlib.axes._subplots.AxesSubplot at 0x111ad5668>"
      ]
     },
     "execution_count": 84,
     "metadata": {},
     "output_type": "execute_result"
    },
    {
     "data": {
      "image/png": "[encoded data removed]",
      "text/plain": [
       "<Figure size 432x288 with 1 Axes>"
      ]
     },
     "metadata": {},
     "output_type": "display_data"
    }
   ],
   "source": [
    "%matplotlib inline\n",
    "fitness = [ind[1] for ind in fittest]\n",
    "sb.tsplot(fitness, time=range(100), value=\"Highest Fitness\")"
   ]
  },
  {
   "cell_type": "markdown",
   "metadata": {},
   "source": [
    "Good! The GA seems to be working, as can be noticed by the clear increasing trend shown by the graph. Still, the stairs-resembling image shows that the maximum fitness often gets stuck in plateaus before moving upwards. This may mean we're not getting enough genetic diversity. Let's try to repair this by increasing mutation rates."
   ]
  },
  {
   "cell_type": "code",
   "execution_count": 92,
   "metadata": {},
   "outputs": [],
   "source": [
    "mutation_fittest = run_ga(initial_population, 100, mutation_rate=100)"
   ]
  },
  {
   "cell_type": "code",
   "execution_count": 93,
   "metadata": {},
   "outputs": [
    {
     "name": "stderr",
     "output_type": "stream",
     "text": [
      "/usr/local/lib/python3.6/site-packages/seaborn/timeseries.py:183: UserWarning: The tsplot function is deprecated and will be removed or replaced (in a substantially altered version) in a future release.\n",
      "  warnings.warn(msg, UserWarning)\n"
     ]
    },
    {
     "data": {
      "text/plain": [
       "<matplotlib.axes._subplots.AxesSubplot at 0x111b4a6a0>"
      ]
     },
     "execution_count": 93,
     "metadata": {},
     "output_type": "execute_result"
    },
    {
     "data": {
      "image/png": "[encoded data removed]",
      "text/plain": [
       "<Figure size 432x288 with 1 Axes>"
      ]
     },
     "metadata": {},
     "output_type": "display_data"
    }
   ],
   "source": [
    "mutation_fitness = [ind[1] for ind in mutation_fittest]\n",
    "sb.tsplot(mutation_fitness, time=range(100), value=\"Highest Fitness\")"
   ]
  },
  {
   "cell_type": "code",
   "execution_count": 97,
   "metadata": {},
   "outputs": [
    {
     "name": "stdout",
     "output_type": "stream",
     "text": [
      "Top fitness without increased mutation: 730.3922802612883\n",
      "Top fitness with increased mutation: 729.8626864262142\n"
     ]
    }
   ],
   "source": [
    "print(\"Top fitness without increased mutation: \" + str(fitness[-1]))\n",
    "print(\"Top fitness with increased mutation: \" + str(mutation_fitness[-1]))"
   ]
  },
  {
   "cell_type": "markdown",
   "metadata": {},
   "source": [
    "As we can see, raising the mutation probability ended up making even larger plateaus, and the final fitness highscore was slighly worse. Let's see what happens if we make mutations even more common. "
   ]
  },
  {
   "cell_type": "code",
   "execution_count": 98,
   "metadata": {},
   "outputs": [],
   "source": [
    "high_mutation_fittest = run_ga(initial_population, 100, mutation_rate=5) # one in five will suffer mutation!"
   ]
  },
  {
   "cell_type": "code",
   "execution_count": 99,
   "metadata": {},
   "outputs": [
    {
     "name": "stderr",
     "output_type": "stream",
     "text": [
      "/usr/local/lib/python3.6/site-packages/seaborn/timeseries.py:183: UserWarning: The tsplot function is deprecated and will be removed or replaced (in a substantially altered version) in a future release.\n",
      "  warnings.warn(msg, UserWarning)\n"
     ]
    },
    {
     "data": {
      "text/plain": [
       "<matplotlib.axes._subplots.AxesSubplot at 0x10e50fc88>"
      ]
     },
     "execution_count": 99,
     "metadata": {},
     "output_type": "execute_result"
    },
    {
     "data": {
      "image/png": "[encoded data removed]",
      "text/plain": [
       "<Figure size 432x288 with 1 Axes>"
      ]
     },
     "metadata": {},
     "output_type": "display_data"
    }
   ],
   "source": [
    "high_mutation_fitness = [ind[1] for ind in high_mutation_fittest]\n",
    "sb.tsplot(high_mutation_fitness, time=range(100), value=\"Highest Fitness\")"
   ]
  },
  {
   "cell_type": "code",
   "execution_count": 100,
   "metadata": {},
   "outputs": [
    {
     "name": "stdout",
     "output_type": "stream",
     "text": [
      "Top fitness without increased mutation: 730.3922802612883\n",
      "Top fitness with increased mutation: 729.8626864262142\n",
      "Top fitness with extreme mutation: 738.6455870342481\n"
     ]
    }
   ],
   "source": [
    "print(\"Top fitness without increased mutation: \" + str(fitness[-1]))\n",
    "print(\"Top fitness with increased mutation: \" + str(mutation_fitness[-1]))\n",
    "print(\"Top fitness with extreme mutation: \" + str(max(high_mutation_fitness)))"
   ]
  },
  {
   "cell_type": "markdown",
   "metadata": {},
   "source": [
    "Wow! Clearly making mutation so common made the algorithm have a lot more ups and downs, but it did at some point beat the best solution found by the last two experiment. It's also interesting to see that very significant drop around generation 90. Knowing that we have elitism in place, the only thing that could have caused that gigantic drop was a mutation, meaning that a single bit (corresponding to a single feature) change was responsible for that. This feature must be very significant. \n",
    "<br> Unfortunately, since we only recorded the top performers and not the entire populations, we have no guarantee that we'll be able to find which bit caused the drop (the drop caused by the bit flip might have so big that another individual ended up becoming the top performer)."
   ]
  },
  {
   "cell_type": "markdown",
   "metadata": {},
   "source": [
    "## Analyzing Results"
   ]
  },
  {
   "cell_type": "markdown",
   "metadata": {},
   "source": [
    "Let's now see which features our top performer chose!"
   ]
  },
  {
   "cell_type": "code",
   "execution_count": 114,
   "metadata": {},
   "outputs": [],
   "source": [
    "for item in high_mutation_fittest[:-1]:\n",
    "    if item[1] == max(high_mutation_fitness):\n",
    "        top_performer = item\n",
    "        break"
   ]
  },
  {
   "cell_type": "code",
   "execution_count": 116,
   "metadata": {},
   "outputs": [
    {
     "name": "stdout",
     "output_type": "stream",
     "text": [
      "Total features included: 50\n"
     ]
    }
   ],
   "source": [
    "print(\"Total features included: \" + str(top_performer[0].count(1)))"
   ]
  },
  {
   "cell_type": "code",
   "execution_count": 119,
   "metadata": {},
   "outputs": [],
   "source": [
    "included_columns = [column for (column, binary_value) in zip(X.columns, top_performer[0]) if binary_value]\n",
    "excluded_columns = [column for (column, binary_value) in zip(X.columns, top_performer[0]) if not binary_value]"
   ]
  },
  {
   "cell_type": "code",
   "execution_count": 120,
   "metadata": {},
   "outputs": [
    {
     "data": {
      "text/plain": [
       "['racePctWhite',\n",
       " 'racePctAsian',\n",
       " 'racePctHisp',\n",
       " 'agePct12t21',\n",
       " 'agePct12t29',\n",
       " 'agePct16t24',\n",
       " 'numbUrban',\n",
       " 'pctUrban',\n",
       " 'perCapInc',\n",
       " 'whitePerCap',\n",
       " 'OtherPerCap',\n",
       " 'NumUnderPov',\n",
       " 'PctPopUnderPov',\n",
       " 'PctLess9thGrade',\n",
       " 'PctNotHSGrad',\n",
       " 'PctOccupManu',\n",
       " 'PctOccupMgmtProf',\n",
       " 'PersPerFam',\n",
       " 'PctKids2Par',\n",
       " 'PctWorkMomYoungKids',\n",
       " 'PctWorkMom',\n",
       " 'NumIlleg',\n",
       " 'NumImmig',\n",
       " 'PctImmigRec8',\n",
       " 'PctRecentImmig',\n",
       " 'PctRecImmig5',\n",
       " 'PctRecImmig10',\n",
       " 'PctNotSpeakEnglWell',\n",
       " 'PctLargHouseFam',\n",
       " 'PctLargHouseOccup',\n",
       " 'PersPerOccupHous',\n",
       " 'PersPerOwnOccHous',\n",
       " 'PersPerRentOccHous',\n",
       " 'PctHousLess3BR',\n",
       " 'MedNumBR',\n",
       " 'HousVacant',\n",
       " 'PctHousOccup',\n",
       " 'PctVacantBoarded',\n",
       " 'MedYrHousBuilt',\n",
       " 'PctWOFullPlumb',\n",
       " 'OwnOccLowQuart',\n",
       " 'OwnOccMedVal',\n",
       " 'RentHighQ',\n",
       " 'MedOwnCostPctInc',\n",
       " 'NumInShelters',\n",
       " 'NumStreet',\n",
       " 'PctSameHouse85',\n",
       " 'PctSameState85',\n",
       " 'PctUsePubTrans',\n",
       " 'LemasPctOfficDrugUn']"
      ]
     },
     "execution_count": 120,
     "metadata": {},
     "output_type": "execute_result"
    }
   ],
   "source": [
    "included_columns"
   ]
  },
  {
   "cell_type": "code",
   "execution_count": 121,
   "metadata": {},
   "outputs": [
    {
     "data": {
      "text/plain": [
       "['population',\n",
       " 'householdsize',\n",
       " 'racepctblack',\n",
       " 'agePct65up',\n",
       " 'medIncome',\n",
       " 'pctWWage',\n",
       " 'pctWFarmSelf',\n",
       " 'pctWInvInc',\n",
       " 'pctWSocSec',\n",
       " 'pctWPubAsst',\n",
       " 'pctWRetire',\n",
       " 'medFamInc',\n",
       " 'blackPerCap',\n",
       " 'indianPerCap',\n",
       " 'AsianPerCap',\n",
       " 'HispPerCap',\n",
       " 'PctBSorMore',\n",
       " 'PctUnemployed',\n",
       " 'PctEmploy',\n",
       " 'PctEmplManu',\n",
       " 'PctEmplProfServ',\n",
       " 'MalePctDivorce',\n",
       " 'MalePctNevMarr',\n",
       " 'FemalePctDiv',\n",
       " 'TotalPctDiv',\n",
       " 'PctFam2Par',\n",
       " 'PctYoungKids2Par',\n",
       " 'PctTeen2Par',\n",
       " 'PctIlleg',\n",
       " 'PctImmigRecent',\n",
       " 'PctImmigRec5',\n",
       " 'PctImmigRec10',\n",
       " 'PctRecImmig8',\n",
       " 'PctSpeakEnglOnly',\n",
       " 'PctPersOwnOccup',\n",
       " 'PctPersDenseHous',\n",
       " 'PctHousOwnOcc',\n",
       " 'PctVacMore6Mos',\n",
       " 'PctHousNoPhone',\n",
       " 'OwnOccHiQuart',\n",
       " 'RentLowQ',\n",
       " 'RentMedian',\n",
       " 'MedRent',\n",
       " 'MedRentPctHousInc',\n",
       " 'MedOwnCostPctIncNoMtg',\n",
       " 'PctForeignBorn',\n",
       " 'PctBornSameState',\n",
       " 'PctSameCity85',\n",
       " 'LandArea',\n",
       " 'PopDens']"
      ]
     },
     "execution_count": 121,
     "metadata": {},
     "output_type": "execute_result"
    }
   ],
   "source": [
    "excluded_columns"
   ]
  },
  {
   "cell_type": "code",
   "execution_count": null,
   "metadata": {},
   "outputs": [],
   "source": []
  }
 ],
 "metadata": {
  "kernelspec": {
   "display_name": "Python 3",
   "language": "python",
   "name": "python3"
  },
  "language_info": {
   "codemirror_mode": {
    "name": "ipython",
    "version": 3
   },
   "file_extension": ".py",
   "mimetype": "text/x-python",
   "name": "python",
   "nbconvert_exporter": "python",
   "pygments_lexer": "ipython3",
   "version": "3.6.5"
  }
 },
 "nbformat": 4,
 "nbformat_minor": 2
}
