{
  "nbformat": 4,
  "nbformat_minor": 0,
  "metadata": {
    "kernelspec": {
      "display_name": "Python 3",
      "language": "python",
      "name": "python3"
    },
    "language_info": {
      "codemirror_mode": {
        "name": "ipython",
        "version": 3
      },
      "file_extension": ".py",
      "mimetype": "text/x-python",
      "name": "python",
      "nbconvert_exporter": "python",
      "pygments_lexer": "ipython3",
      "version": "3.6.5"
    },
    "colab": {
      "name": "Feature Selection using GA.ipynb",
      "provenance": [],
      "toc_visible": true,
      "include_colab_link": true
    },
    "accelerator": "GPU"
  },
  "cells": [
    {
      "cell_type": "markdown",
      "metadata": {
        "id": "view-in-github",
        "colab_type": "text"
      },
      "source": [
        "<a href=\"https://colab.research.google.com/github/satishphale/genetic-feature-selection/blob/master/Feature_Selection_using_GA.ipynb\" target=\"_parent\"><img src=\"https://colab.research.google.com/assets/colab-badge.svg\" alt=\"Open In Colab\"/></a>"
      ]
    },
    {
      "cell_type": "markdown",
      "metadata": {
        "id": "WY93kvhHFgu_"
      },
      "source": [
        "# Using Genetic Algorithm for Feature Selection"
      ]
    },
    {
      "cell_type": "markdown",
      "metadata": {
        "id": "6-qIj6xSFgvA"
      },
      "source": [
        "This notebook is an example implementation of a simple Genetic Algorithm applied to feature selection. It will be using the <a href=\"http://archive.ics.uci.edu/ml/datasets/communities+and+crime\">Communities and Crime Dataset</a> from UCI Machine Learning, which has 122 attributes, aimining to use these attributes in order to predict the label (Per Capita Violent Crimes). We will use the Genetic Algorithm to select which of those 122 features are most relevant to this prediction. "
      ]
    },
    {
      "cell_type": "code",
      "metadata": {
        "id": "5C5JimA_FgvB"
      },
      "source": [
        "import pandas as pd\n",
        "import numpy as np\n",
        "from sklearn.ensemble import RandomForestRegressor\n",
        "from sklearn.model_selection import train_test_split\n",
        "from sklearn.metrics import mean_squared_error\n",
        "import random\n",
        "import seaborn as sb"
      ],
      "execution_count": null,
      "outputs": []
    },
    {
      "cell_type": "markdown",
      "metadata": {
        "id": "QQYKRihpFgvC"
      },
      "source": [
        "## Data Load"
      ]
    },
    {
      "cell_type": "code",
      "metadata": {
        "colab": {
          "base_uri": "https://localhost:8080/",
          "height": 244
        },
        "id": "jY5M2C5gFgvC",
        "outputId": "c15cd2e7-4271-450b-c4a2-a439e78be6bd"
      },
      "source": [
        "df = pd.read_csv(\"communities.data\", header=None)\n",
        "df.head()"
      ],
      "execution_count": null,
      "outputs": [
        {
          "output_type": "execute_result",
          "data": {
            "text/html": [
              "<div>\n",
              "<style scoped>\n",
              "    .dataframe tbody tr th:only-of-type {\n",
              "        vertical-align: middle;\n",
              "    }\n",
              "\n",
              "    .dataframe tbody tr th {\n",
              "        vertical-align: top;\n",
              "    }\n",
              "\n",
              "    .dataframe thead th {\n",
              "        text-align: right;\n",
              "    }\n",
              "</style>\n",
              "<table border=\"1\" class=\"dataframe\">\n",
              "  <thead>\n",
              "    <tr style=\"text-align: right;\">\n",
              "      <th></th>\n",
              "      <th>0</th>\n",
              "      <th>1</th>\n",
              "      <th>2</th>\n",
              "      <th>3</th>\n",
              "      <th>4</th>\n",
              "      <th>5</th>\n",
              "      <th>6</th>\n",
              "      <th>7</th>\n",
              "      <th>8</th>\n",
              "      <th>9</th>\n",
              "      <th>10</th>\n",
              "      <th>11</th>\n",
              "      <th>12</th>\n",
              "      <th>13</th>\n",
              "      <th>14</th>\n",
              "      <th>15</th>\n",
              "      <th>16</th>\n",
              "      <th>17</th>\n",
              "      <th>18</th>\n",
              "      <th>19</th>\n",
              "      <th>20</th>\n",
              "      <th>21</th>\n",
              "      <th>22</th>\n",
              "      <th>23</th>\n",
              "      <th>24</th>\n",
              "      <th>25</th>\n",
              "      <th>26</th>\n",
              "      <th>27</th>\n",
              "      <th>28</th>\n",
              "      <th>29</th>\n",
              "      <th>30</th>\n",
              "      <th>31</th>\n",
              "      <th>32</th>\n",
              "      <th>33</th>\n",
              "      <th>34</th>\n",
              "      <th>35</th>\n",
              "      <th>36</th>\n",
              "      <th>37</th>\n",
              "      <th>38</th>\n",
              "      <th>39</th>\n",
              "      <th>...</th>\n",
              "      <th>88</th>\n",
              "      <th>89</th>\n",
              "      <th>90</th>\n",
              "      <th>91</th>\n",
              "      <th>92</th>\n",
              "      <th>93</th>\n",
              "      <th>94</th>\n",
              "      <th>95</th>\n",
              "      <th>96</th>\n",
              "      <th>97</th>\n",
              "      <th>98</th>\n",
              "      <th>99</th>\n",
              "      <th>100</th>\n",
              "      <th>101</th>\n",
              "      <th>102</th>\n",
              "      <th>103</th>\n",
              "      <th>104</th>\n",
              "      <th>105</th>\n",
              "      <th>106</th>\n",
              "      <th>107</th>\n",
              "      <th>108</th>\n",
              "      <th>109</th>\n",
              "      <th>110</th>\n",
              "      <th>111</th>\n",
              "      <th>112</th>\n",
              "      <th>113</th>\n",
              "      <th>114</th>\n",
              "      <th>115</th>\n",
              "      <th>116</th>\n",
              "      <th>117</th>\n",
              "      <th>118</th>\n",
              "      <th>119</th>\n",
              "      <th>120</th>\n",
              "      <th>121</th>\n",
              "      <th>122</th>\n",
              "      <th>123</th>\n",
              "      <th>124</th>\n",
              "      <th>125</th>\n",
              "      <th>126</th>\n",
              "      <th>127</th>\n",
              "    </tr>\n",
              "  </thead>\n",
              "  <tbody>\n",
              "    <tr>\n",
              "      <th>0</th>\n",
              "      <td>8</td>\n",
              "      <td>?</td>\n",
              "      <td>?</td>\n",
              "      <td>Lakewoodcity</td>\n",
              "      <td>1</td>\n",
              "      <td>0.19</td>\n",
              "      <td>0.33</td>\n",
              "      <td>0.02</td>\n",
              "      <td>0.90</td>\n",
              "      <td>0.12</td>\n",
              "      <td>0.17</td>\n",
              "      <td>0.34</td>\n",
              "      <td>0.47</td>\n",
              "      <td>0.29</td>\n",
              "      <td>0.32</td>\n",
              "      <td>0.20</td>\n",
              "      <td>1.0</td>\n",
              "      <td>0.37</td>\n",
              "      <td>0.72</td>\n",
              "      <td>0.34</td>\n",
              "      <td>0.60</td>\n",
              "      <td>0.29</td>\n",
              "      <td>0.15</td>\n",
              "      <td>0.43</td>\n",
              "      <td>0.39</td>\n",
              "      <td>0.40</td>\n",
              "      <td>0.39</td>\n",
              "      <td>0.32</td>\n",
              "      <td>0.27</td>\n",
              "      <td>0.27</td>\n",
              "      <td>0.36</td>\n",
              "      <td>0.41</td>\n",
              "      <td>0.08</td>\n",
              "      <td>0.19</td>\n",
              "      <td>0.10</td>\n",
              "      <td>0.18</td>\n",
              "      <td>0.48</td>\n",
              "      <td>0.27</td>\n",
              "      <td>0.68</td>\n",
              "      <td>0.23</td>\n",
              "      <td>...</td>\n",
              "      <td>0.35</td>\n",
              "      <td>0.38</td>\n",
              "      <td>0.34</td>\n",
              "      <td>0.38</td>\n",
              "      <td>0.46</td>\n",
              "      <td>0.25</td>\n",
              "      <td>0.04</td>\n",
              "      <td>0.0</td>\n",
              "      <td>0.12</td>\n",
              "      <td>0.42</td>\n",
              "      <td>0.50</td>\n",
              "      <td>0.51</td>\n",
              "      <td>0.64</td>\n",
              "      <td>0.03</td>\n",
              "      <td>0.13</td>\n",
              "      <td>0.96</td>\n",
              "      <td>0.17</td>\n",
              "      <td>0.06</td>\n",
              "      <td>0.18</td>\n",
              "      <td>0.44</td>\n",
              "      <td>0.13</td>\n",
              "      <td>0.94</td>\n",
              "      <td>0.93</td>\n",
              "      <td>0.03</td>\n",
              "      <td>0.07</td>\n",
              "      <td>0.1</td>\n",
              "      <td>0.07</td>\n",
              "      <td>0.02</td>\n",
              "      <td>0.57</td>\n",
              "      <td>0.29</td>\n",
              "      <td>0.12</td>\n",
              "      <td>0.26</td>\n",
              "      <td>0.20</td>\n",
              "      <td>0.06</td>\n",
              "      <td>0.04</td>\n",
              "      <td>0.9</td>\n",
              "      <td>0.5</td>\n",
              "      <td>0.32</td>\n",
              "      <td>0.14</td>\n",
              "      <td>0.20</td>\n",
              "    </tr>\n",
              "    <tr>\n",
              "      <th>1</th>\n",
              "      <td>53</td>\n",
              "      <td>?</td>\n",
              "      <td>?</td>\n",
              "      <td>Tukwilacity</td>\n",
              "      <td>1</td>\n",
              "      <td>0.00</td>\n",
              "      <td>0.16</td>\n",
              "      <td>0.12</td>\n",
              "      <td>0.74</td>\n",
              "      <td>0.45</td>\n",
              "      <td>0.07</td>\n",
              "      <td>0.26</td>\n",
              "      <td>0.59</td>\n",
              "      <td>0.35</td>\n",
              "      <td>0.27</td>\n",
              "      <td>0.02</td>\n",
              "      <td>1.0</td>\n",
              "      <td>0.31</td>\n",
              "      <td>0.72</td>\n",
              "      <td>0.11</td>\n",
              "      <td>0.45</td>\n",
              "      <td>0.25</td>\n",
              "      <td>0.29</td>\n",
              "      <td>0.39</td>\n",
              "      <td>0.29</td>\n",
              "      <td>0.37</td>\n",
              "      <td>0.38</td>\n",
              "      <td>0.33</td>\n",
              "      <td>0.16</td>\n",
              "      <td>0.30</td>\n",
              "      <td>0.22</td>\n",
              "      <td>0.35</td>\n",
              "      <td>0.01</td>\n",
              "      <td>0.24</td>\n",
              "      <td>0.14</td>\n",
              "      <td>0.24</td>\n",
              "      <td>0.30</td>\n",
              "      <td>0.27</td>\n",
              "      <td>0.73</td>\n",
              "      <td>0.57</td>\n",
              "      <td>...</td>\n",
              "      <td>0.38</td>\n",
              "      <td>0.40</td>\n",
              "      <td>0.37</td>\n",
              "      <td>0.29</td>\n",
              "      <td>0.32</td>\n",
              "      <td>0.18</td>\n",
              "      <td>0.00</td>\n",
              "      <td>0.0</td>\n",
              "      <td>0.21</td>\n",
              "      <td>0.50</td>\n",
              "      <td>0.34</td>\n",
              "      <td>0.60</td>\n",
              "      <td>0.52</td>\n",
              "      <td>?</td>\n",
              "      <td>?</td>\n",
              "      <td>?</td>\n",
              "      <td>?</td>\n",
              "      <td>?</td>\n",
              "      <td>?</td>\n",
              "      <td>?</td>\n",
              "      <td>?</td>\n",
              "      <td>?</td>\n",
              "      <td>?</td>\n",
              "      <td>?</td>\n",
              "      <td>?</td>\n",
              "      <td>?</td>\n",
              "      <td>?</td>\n",
              "      <td>?</td>\n",
              "      <td>?</td>\n",
              "      <td>?</td>\n",
              "      <td>0.02</td>\n",
              "      <td>0.12</td>\n",
              "      <td>0.45</td>\n",
              "      <td>?</td>\n",
              "      <td>?</td>\n",
              "      <td>?</td>\n",
              "      <td>?</td>\n",
              "      <td>0.00</td>\n",
              "      <td>?</td>\n",
              "      <td>0.67</td>\n",
              "    </tr>\n",
              "    <tr>\n",
              "      <th>2</th>\n",
              "      <td>24</td>\n",
              "      <td>?</td>\n",
              "      <td>?</td>\n",
              "      <td>Aberdeentown</td>\n",
              "      <td>1</td>\n",
              "      <td>0.00</td>\n",
              "      <td>0.42</td>\n",
              "      <td>0.49</td>\n",
              "      <td>0.56</td>\n",
              "      <td>0.17</td>\n",
              "      <td>0.04</td>\n",
              "      <td>0.39</td>\n",
              "      <td>0.47</td>\n",
              "      <td>0.28</td>\n",
              "      <td>0.32</td>\n",
              "      <td>0.00</td>\n",
              "      <td>0.0</td>\n",
              "      <td>0.30</td>\n",
              "      <td>0.58</td>\n",
              "      <td>0.19</td>\n",
              "      <td>0.39</td>\n",
              "      <td>0.38</td>\n",
              "      <td>0.40</td>\n",
              "      <td>0.84</td>\n",
              "      <td>0.28</td>\n",
              "      <td>0.27</td>\n",
              "      <td>0.29</td>\n",
              "      <td>0.27</td>\n",
              "      <td>0.07</td>\n",
              "      <td>0.29</td>\n",
              "      <td>0.28</td>\n",
              "      <td>0.39</td>\n",
              "      <td>0.01</td>\n",
              "      <td>0.27</td>\n",
              "      <td>0.27</td>\n",
              "      <td>0.43</td>\n",
              "      <td>0.19</td>\n",
              "      <td>0.36</td>\n",
              "      <td>0.58</td>\n",
              "      <td>0.32</td>\n",
              "      <td>...</td>\n",
              "      <td>0.29</td>\n",
              "      <td>0.27</td>\n",
              "      <td>0.31</td>\n",
              "      <td>0.48</td>\n",
              "      <td>0.39</td>\n",
              "      <td>0.28</td>\n",
              "      <td>0.00</td>\n",
              "      <td>0.0</td>\n",
              "      <td>0.14</td>\n",
              "      <td>0.49</td>\n",
              "      <td>0.54</td>\n",
              "      <td>0.67</td>\n",
              "      <td>0.56</td>\n",
              "      <td>?</td>\n",
              "      <td>?</td>\n",
              "      <td>?</td>\n",
              "      <td>?</td>\n",
              "      <td>?</td>\n",
              "      <td>?</td>\n",
              "      <td>?</td>\n",
              "      <td>?</td>\n",
              "      <td>?</td>\n",
              "      <td>?</td>\n",
              "      <td>?</td>\n",
              "      <td>?</td>\n",
              "      <td>?</td>\n",
              "      <td>?</td>\n",
              "      <td>?</td>\n",
              "      <td>?</td>\n",
              "      <td>?</td>\n",
              "      <td>0.01</td>\n",
              "      <td>0.21</td>\n",
              "      <td>0.02</td>\n",
              "      <td>?</td>\n",
              "      <td>?</td>\n",
              "      <td>?</td>\n",
              "      <td>?</td>\n",
              "      <td>0.00</td>\n",
              "      <td>?</td>\n",
              "      <td>0.43</td>\n",
              "    </tr>\n",
              "    <tr>\n",
              "      <th>3</th>\n",
              "      <td>34</td>\n",
              "      <td>5</td>\n",
              "      <td>81440</td>\n",
              "      <td>Willingborotownship</td>\n",
              "      <td>1</td>\n",
              "      <td>0.04</td>\n",
              "      <td>0.77</td>\n",
              "      <td>1.00</td>\n",
              "      <td>0.08</td>\n",
              "      <td>0.12</td>\n",
              "      <td>0.10</td>\n",
              "      <td>0.51</td>\n",
              "      <td>0.50</td>\n",
              "      <td>0.34</td>\n",
              "      <td>0.21</td>\n",
              "      <td>0.06</td>\n",
              "      <td>1.0</td>\n",
              "      <td>0.58</td>\n",
              "      <td>0.89</td>\n",
              "      <td>0.21</td>\n",
              "      <td>0.43</td>\n",
              "      <td>0.36</td>\n",
              "      <td>0.20</td>\n",
              "      <td>0.82</td>\n",
              "      <td>0.51</td>\n",
              "      <td>0.36</td>\n",
              "      <td>0.40</td>\n",
              "      <td>0.39</td>\n",
              "      <td>0.16</td>\n",
              "      <td>0.25</td>\n",
              "      <td>0.36</td>\n",
              "      <td>0.44</td>\n",
              "      <td>0.01</td>\n",
              "      <td>0.10</td>\n",
              "      <td>0.09</td>\n",
              "      <td>0.25</td>\n",
              "      <td>0.31</td>\n",
              "      <td>0.33</td>\n",
              "      <td>0.71</td>\n",
              "      <td>0.36</td>\n",
              "      <td>...</td>\n",
              "      <td>0.70</td>\n",
              "      <td>0.77</td>\n",
              "      <td>0.89</td>\n",
              "      <td>0.63</td>\n",
              "      <td>0.51</td>\n",
              "      <td>0.47</td>\n",
              "      <td>0.00</td>\n",
              "      <td>0.0</td>\n",
              "      <td>0.19</td>\n",
              "      <td>0.30</td>\n",
              "      <td>0.73</td>\n",
              "      <td>0.64</td>\n",
              "      <td>0.65</td>\n",
              "      <td>?</td>\n",
              "      <td>?</td>\n",
              "      <td>?</td>\n",
              "      <td>?</td>\n",
              "      <td>?</td>\n",
              "      <td>?</td>\n",
              "      <td>?</td>\n",
              "      <td>?</td>\n",
              "      <td>?</td>\n",
              "      <td>?</td>\n",
              "      <td>?</td>\n",
              "      <td>?</td>\n",
              "      <td>?</td>\n",
              "      <td>?</td>\n",
              "      <td>?</td>\n",
              "      <td>?</td>\n",
              "      <td>?</td>\n",
              "      <td>0.02</td>\n",
              "      <td>0.39</td>\n",
              "      <td>0.28</td>\n",
              "      <td>?</td>\n",
              "      <td>?</td>\n",
              "      <td>?</td>\n",
              "      <td>?</td>\n",
              "      <td>0.00</td>\n",
              "      <td>?</td>\n",
              "      <td>0.12</td>\n",
              "    </tr>\n",
              "    <tr>\n",
              "      <th>4</th>\n",
              "      <td>42</td>\n",
              "      <td>95</td>\n",
              "      <td>6096</td>\n",
              "      <td>Bethlehemtownship</td>\n",
              "      <td>1</td>\n",
              "      <td>0.01</td>\n",
              "      <td>0.55</td>\n",
              "      <td>0.02</td>\n",
              "      <td>0.95</td>\n",
              "      <td>0.09</td>\n",
              "      <td>0.05</td>\n",
              "      <td>0.38</td>\n",
              "      <td>0.38</td>\n",
              "      <td>0.23</td>\n",
              "      <td>0.36</td>\n",
              "      <td>0.02</td>\n",
              "      <td>0.9</td>\n",
              "      <td>0.50</td>\n",
              "      <td>0.72</td>\n",
              "      <td>0.16</td>\n",
              "      <td>0.68</td>\n",
              "      <td>0.44</td>\n",
              "      <td>0.11</td>\n",
              "      <td>0.71</td>\n",
              "      <td>0.46</td>\n",
              "      <td>0.43</td>\n",
              "      <td>0.41</td>\n",
              "      <td>0.28</td>\n",
              "      <td>0.00</td>\n",
              "      <td>0.74</td>\n",
              "      <td>0.51</td>\n",
              "      <td>0.48</td>\n",
              "      <td>0.00</td>\n",
              "      <td>0.06</td>\n",
              "      <td>0.25</td>\n",
              "      <td>0.30</td>\n",
              "      <td>0.33</td>\n",
              "      <td>0.12</td>\n",
              "      <td>0.65</td>\n",
              "      <td>0.67</td>\n",
              "      <td>...</td>\n",
              "      <td>0.36</td>\n",
              "      <td>0.38</td>\n",
              "      <td>0.38</td>\n",
              "      <td>0.22</td>\n",
              "      <td>0.51</td>\n",
              "      <td>0.21</td>\n",
              "      <td>0.00</td>\n",
              "      <td>0.0</td>\n",
              "      <td>0.11</td>\n",
              "      <td>0.72</td>\n",
              "      <td>0.64</td>\n",
              "      <td>0.61</td>\n",
              "      <td>0.53</td>\n",
              "      <td>?</td>\n",
              "      <td>?</td>\n",
              "      <td>?</td>\n",
              "      <td>?</td>\n",
              "      <td>?</td>\n",
              "      <td>?</td>\n",
              "      <td>?</td>\n",
              "      <td>?</td>\n",
              "      <td>?</td>\n",
              "      <td>?</td>\n",
              "      <td>?</td>\n",
              "      <td>?</td>\n",
              "      <td>?</td>\n",
              "      <td>?</td>\n",
              "      <td>?</td>\n",
              "      <td>?</td>\n",
              "      <td>?</td>\n",
              "      <td>0.04</td>\n",
              "      <td>0.09</td>\n",
              "      <td>0.02</td>\n",
              "      <td>?</td>\n",
              "      <td>?</td>\n",
              "      <td>?</td>\n",
              "      <td>?</td>\n",
              "      <td>0.00</td>\n",
              "      <td>?</td>\n",
              "      <td>0.03</td>\n",
              "    </tr>\n",
              "  </tbody>\n",
              "</table>\n",
              "<p>5 rows × 128 columns</p>\n",
              "</div>"
            ],
            "text/plain": [
              "   0   1      2                    3    4    ...  123  124   125   126   127\n",
              "0    8   ?      ?         Lakewoodcity    1  ...  0.9  0.5  0.32  0.14  0.20\n",
              "1   53   ?      ?          Tukwilacity    1  ...    ?    ?  0.00     ?  0.67\n",
              "2   24   ?      ?         Aberdeentown    1  ...    ?    ?  0.00     ?  0.43\n",
              "3   34   5  81440  Willingborotownship    1  ...    ?    ?  0.00     ?  0.12\n",
              "4   42  95   6096    Bethlehemtownship    1  ...    ?    ?  0.00     ?  0.03\n",
              "\n",
              "[5 rows x 128 columns]"
            ]
          },
          "metadata": {
            "tags": []
          },
          "execution_count": 5
        }
      ]
    },
    {
      "cell_type": "markdown",
      "metadata": {
        "id": "WpUK-QA9FgvD"
      },
      "source": [
        "The data file does not contain the headers, but they can be extracted from the additional file \"communities.names\""
      ]
    },
    {
      "cell_type": "code",
      "metadata": {
        "id": "W4-gcWAiFgvD"
      },
      "source": [
        "file = open(\"communities.names\")\n",
        "header = []\n",
        "for line in file:\n",
        "    if \"@attribute\" in line: \n",
        "        header.append(line.split(\" \")[1])"
      ],
      "execution_count": null,
      "outputs": []
    },
    {
      "cell_type": "code",
      "metadata": {
        "colab": {
          "base_uri": "https://localhost:8080/",
          "height": 244
        },
        "id": "HTgyfoBcFgvE",
        "outputId": "bd6f355d-58ec-433e-a708-3ed51b82382e"
      },
      "source": [
        "df.columns = header\n",
        "df.head()"
      ],
      "execution_count": null,
      "outputs": [
        {
          "output_type": "execute_result",
          "data": {
            "text/html": [
              "<div>\n",
              "<style scoped>\n",
              "    .dataframe tbody tr th:only-of-type {\n",
              "        vertical-align: middle;\n",
              "    }\n",
              "\n",
              "    .dataframe tbody tr th {\n",
              "        vertical-align: top;\n",
              "    }\n",
              "\n",
              "    .dataframe thead th {\n",
              "        text-align: right;\n",
              "    }\n",
              "</style>\n",
              "<table border=\"1\" class=\"dataframe\">\n",
              "  <thead>\n",
              "    <tr style=\"text-align: right;\">\n",
              "      <th></th>\n",
              "      <th>state</th>\n",
              "      <th>county</th>\n",
              "      <th>community</th>\n",
              "      <th>communityname</th>\n",
              "      <th>fold</th>\n",
              "      <th>population</th>\n",
              "      <th>householdsize</th>\n",
              "      <th>racepctblack</th>\n",
              "      <th>racePctWhite</th>\n",
              "      <th>racePctAsian</th>\n",
              "      <th>racePctHisp</th>\n",
              "      <th>agePct12t21</th>\n",
              "      <th>agePct12t29</th>\n",
              "      <th>agePct16t24</th>\n",
              "      <th>agePct65up</th>\n",
              "      <th>numbUrban</th>\n",
              "      <th>pctUrban</th>\n",
              "      <th>medIncome</th>\n",
              "      <th>pctWWage</th>\n",
              "      <th>pctWFarmSelf</th>\n",
              "      <th>pctWInvInc</th>\n",
              "      <th>pctWSocSec</th>\n",
              "      <th>pctWPubAsst</th>\n",
              "      <th>pctWRetire</th>\n",
              "      <th>medFamInc</th>\n",
              "      <th>perCapInc</th>\n",
              "      <th>whitePerCap</th>\n",
              "      <th>blackPerCap</th>\n",
              "      <th>indianPerCap</th>\n",
              "      <th>AsianPerCap</th>\n",
              "      <th>OtherPerCap</th>\n",
              "      <th>HispPerCap</th>\n",
              "      <th>NumUnderPov</th>\n",
              "      <th>PctPopUnderPov</th>\n",
              "      <th>PctLess9thGrade</th>\n",
              "      <th>PctNotHSGrad</th>\n",
              "      <th>PctBSorMore</th>\n",
              "      <th>PctUnemployed</th>\n",
              "      <th>PctEmploy</th>\n",
              "      <th>PctEmplManu</th>\n",
              "      <th>...</th>\n",
              "      <th>RentMedian</th>\n",
              "      <th>RentHighQ</th>\n",
              "      <th>MedRent</th>\n",
              "      <th>MedRentPctHousInc</th>\n",
              "      <th>MedOwnCostPctInc</th>\n",
              "      <th>MedOwnCostPctIncNoMtg</th>\n",
              "      <th>NumInShelters</th>\n",
              "      <th>NumStreet</th>\n",
              "      <th>PctForeignBorn</th>\n",
              "      <th>PctBornSameState</th>\n",
              "      <th>PctSameHouse85</th>\n",
              "      <th>PctSameCity85</th>\n",
              "      <th>PctSameState85</th>\n",
              "      <th>LemasSwornFT</th>\n",
              "      <th>LemasSwFTPerPop</th>\n",
              "      <th>LemasSwFTFieldOps</th>\n",
              "      <th>LemasSwFTFieldPerPop</th>\n",
              "      <th>LemasTotalReq</th>\n",
              "      <th>LemasTotReqPerPop</th>\n",
              "      <th>PolicReqPerOffic</th>\n",
              "      <th>PolicPerPop</th>\n",
              "      <th>RacialMatchCommPol</th>\n",
              "      <th>PctPolicWhite</th>\n",
              "      <th>PctPolicBlack</th>\n",
              "      <th>PctPolicHisp</th>\n",
              "      <th>PctPolicAsian</th>\n",
              "      <th>PctPolicMinor</th>\n",
              "      <th>OfficAssgnDrugUnits</th>\n",
              "      <th>NumKindsDrugsSeiz</th>\n",
              "      <th>PolicAveOTWorked</th>\n",
              "      <th>LandArea</th>\n",
              "      <th>PopDens</th>\n",
              "      <th>PctUsePubTrans</th>\n",
              "      <th>PolicCars</th>\n",
              "      <th>PolicOperBudg</th>\n",
              "      <th>LemasPctPolicOnPatr</th>\n",
              "      <th>LemasGangUnitDeploy</th>\n",
              "      <th>LemasPctOfficDrugUn</th>\n",
              "      <th>PolicBudgPerPop</th>\n",
              "      <th>ViolentCrimesPerPop</th>\n",
              "    </tr>\n",
              "  </thead>\n",
              "  <tbody>\n",
              "    <tr>\n",
              "      <th>0</th>\n",
              "      <td>8</td>\n",
              "      <td>?</td>\n",
              "      <td>?</td>\n",
              "      <td>Lakewoodcity</td>\n",
              "      <td>1</td>\n",
              "      <td>0.19</td>\n",
              "      <td>0.33</td>\n",
              "      <td>0.02</td>\n",
              "      <td>0.90</td>\n",
              "      <td>0.12</td>\n",
              "      <td>0.17</td>\n",
              "      <td>0.34</td>\n",
              "      <td>0.47</td>\n",
              "      <td>0.29</td>\n",
              "      <td>0.32</td>\n",
              "      <td>0.20</td>\n",
              "      <td>1.0</td>\n",
              "      <td>0.37</td>\n",
              "      <td>0.72</td>\n",
              "      <td>0.34</td>\n",
              "      <td>0.60</td>\n",
              "      <td>0.29</td>\n",
              "      <td>0.15</td>\n",
              "      <td>0.43</td>\n",
              "      <td>0.39</td>\n",
              "      <td>0.40</td>\n",
              "      <td>0.39</td>\n",
              "      <td>0.32</td>\n",
              "      <td>0.27</td>\n",
              "      <td>0.27</td>\n",
              "      <td>0.36</td>\n",
              "      <td>0.41</td>\n",
              "      <td>0.08</td>\n",
              "      <td>0.19</td>\n",
              "      <td>0.10</td>\n",
              "      <td>0.18</td>\n",
              "      <td>0.48</td>\n",
              "      <td>0.27</td>\n",
              "      <td>0.68</td>\n",
              "      <td>0.23</td>\n",
              "      <td>...</td>\n",
              "      <td>0.35</td>\n",
              "      <td>0.38</td>\n",
              "      <td>0.34</td>\n",
              "      <td>0.38</td>\n",
              "      <td>0.46</td>\n",
              "      <td>0.25</td>\n",
              "      <td>0.04</td>\n",
              "      <td>0.0</td>\n",
              "      <td>0.12</td>\n",
              "      <td>0.42</td>\n",
              "      <td>0.50</td>\n",
              "      <td>0.51</td>\n",
              "      <td>0.64</td>\n",
              "      <td>0.03</td>\n",
              "      <td>0.13</td>\n",
              "      <td>0.96</td>\n",
              "      <td>0.17</td>\n",
              "      <td>0.06</td>\n",
              "      <td>0.18</td>\n",
              "      <td>0.44</td>\n",
              "      <td>0.13</td>\n",
              "      <td>0.94</td>\n",
              "      <td>0.93</td>\n",
              "      <td>0.03</td>\n",
              "      <td>0.07</td>\n",
              "      <td>0.1</td>\n",
              "      <td>0.07</td>\n",
              "      <td>0.02</td>\n",
              "      <td>0.57</td>\n",
              "      <td>0.29</td>\n",
              "      <td>0.12</td>\n",
              "      <td>0.26</td>\n",
              "      <td>0.20</td>\n",
              "      <td>0.06</td>\n",
              "      <td>0.04</td>\n",
              "      <td>0.9</td>\n",
              "      <td>0.5</td>\n",
              "      <td>0.32</td>\n",
              "      <td>0.14</td>\n",
              "      <td>0.20</td>\n",
              "    </tr>\n",
              "    <tr>\n",
              "      <th>1</th>\n",
              "      <td>53</td>\n",
              "      <td>?</td>\n",
              "      <td>?</td>\n",
              "      <td>Tukwilacity</td>\n",
              "      <td>1</td>\n",
              "      <td>0.00</td>\n",
              "      <td>0.16</td>\n",
              "      <td>0.12</td>\n",
              "      <td>0.74</td>\n",
              "      <td>0.45</td>\n",
              "      <td>0.07</td>\n",
              "      <td>0.26</td>\n",
              "      <td>0.59</td>\n",
              "      <td>0.35</td>\n",
              "      <td>0.27</td>\n",
              "      <td>0.02</td>\n",
              "      <td>1.0</td>\n",
              "      <td>0.31</td>\n",
              "      <td>0.72</td>\n",
              "      <td>0.11</td>\n",
              "      <td>0.45</td>\n",
              "      <td>0.25</td>\n",
              "      <td>0.29</td>\n",
              "      <td>0.39</td>\n",
              "      <td>0.29</td>\n",
              "      <td>0.37</td>\n",
              "      <td>0.38</td>\n",
              "      <td>0.33</td>\n",
              "      <td>0.16</td>\n",
              "      <td>0.30</td>\n",
              "      <td>0.22</td>\n",
              "      <td>0.35</td>\n",
              "      <td>0.01</td>\n",
              "      <td>0.24</td>\n",
              "      <td>0.14</td>\n",
              "      <td>0.24</td>\n",
              "      <td>0.30</td>\n",
              "      <td>0.27</td>\n",
              "      <td>0.73</td>\n",
              "      <td>0.57</td>\n",
              "      <td>...</td>\n",
              "      <td>0.38</td>\n",
              "      <td>0.40</td>\n",
              "      <td>0.37</td>\n",
              "      <td>0.29</td>\n",
              "      <td>0.32</td>\n",
              "      <td>0.18</td>\n",
              "      <td>0.00</td>\n",
              "      <td>0.0</td>\n",
              "      <td>0.21</td>\n",
              "      <td>0.50</td>\n",
              "      <td>0.34</td>\n",
              "      <td>0.60</td>\n",
              "      <td>0.52</td>\n",
              "      <td>?</td>\n",
              "      <td>?</td>\n",
              "      <td>?</td>\n",
              "      <td>?</td>\n",
              "      <td>?</td>\n",
              "      <td>?</td>\n",
              "      <td>?</td>\n",
              "      <td>?</td>\n",
              "      <td>?</td>\n",
              "      <td>?</td>\n",
              "      <td>?</td>\n",
              "      <td>?</td>\n",
              "      <td>?</td>\n",
              "      <td>?</td>\n",
              "      <td>?</td>\n",
              "      <td>?</td>\n",
              "      <td>?</td>\n",
              "      <td>0.02</td>\n",
              "      <td>0.12</td>\n",
              "      <td>0.45</td>\n",
              "      <td>?</td>\n",
              "      <td>?</td>\n",
              "      <td>?</td>\n",
              "      <td>?</td>\n",
              "      <td>0.00</td>\n",
              "      <td>?</td>\n",
              "      <td>0.67</td>\n",
              "    </tr>\n",
              "    <tr>\n",
              "      <th>2</th>\n",
              "      <td>24</td>\n",
              "      <td>?</td>\n",
              "      <td>?</td>\n",
              "      <td>Aberdeentown</td>\n",
              "      <td>1</td>\n",
              "      <td>0.00</td>\n",
              "      <td>0.42</td>\n",
              "      <td>0.49</td>\n",
              "      <td>0.56</td>\n",
              "      <td>0.17</td>\n",
              "      <td>0.04</td>\n",
              "      <td>0.39</td>\n",
              "      <td>0.47</td>\n",
              "      <td>0.28</td>\n",
              "      <td>0.32</td>\n",
              "      <td>0.00</td>\n",
              "      <td>0.0</td>\n",
              "      <td>0.30</td>\n",
              "      <td>0.58</td>\n",
              "      <td>0.19</td>\n",
              "      <td>0.39</td>\n",
              "      <td>0.38</td>\n",
              "      <td>0.40</td>\n",
              "      <td>0.84</td>\n",
              "      <td>0.28</td>\n",
              "      <td>0.27</td>\n",
              "      <td>0.29</td>\n",
              "      <td>0.27</td>\n",
              "      <td>0.07</td>\n",
              "      <td>0.29</td>\n",
              "      <td>0.28</td>\n",
              "      <td>0.39</td>\n",
              "      <td>0.01</td>\n",
              "      <td>0.27</td>\n",
              "      <td>0.27</td>\n",
              "      <td>0.43</td>\n",
              "      <td>0.19</td>\n",
              "      <td>0.36</td>\n",
              "      <td>0.58</td>\n",
              "      <td>0.32</td>\n",
              "      <td>...</td>\n",
              "      <td>0.29</td>\n",
              "      <td>0.27</td>\n",
              "      <td>0.31</td>\n",
              "      <td>0.48</td>\n",
              "      <td>0.39</td>\n",
              "      <td>0.28</td>\n",
              "      <td>0.00</td>\n",
              "      <td>0.0</td>\n",
              "      <td>0.14</td>\n",
              "      <td>0.49</td>\n",
              "      <td>0.54</td>\n",
              "      <td>0.67</td>\n",
              "      <td>0.56</td>\n",
              "      <td>?</td>\n",
              "      <td>?</td>\n",
              "      <td>?</td>\n",
              "      <td>?</td>\n",
              "      <td>?</td>\n",
              "      <td>?</td>\n",
              "      <td>?</td>\n",
              "      <td>?</td>\n",
              "      <td>?</td>\n",
              "      <td>?</td>\n",
              "      <td>?</td>\n",
              "      <td>?</td>\n",
              "      <td>?</td>\n",
              "      <td>?</td>\n",
              "      <td>?</td>\n",
              "      <td>?</td>\n",
              "      <td>?</td>\n",
              "      <td>0.01</td>\n",
              "      <td>0.21</td>\n",
              "      <td>0.02</td>\n",
              "      <td>?</td>\n",
              "      <td>?</td>\n",
              "      <td>?</td>\n",
              "      <td>?</td>\n",
              "      <td>0.00</td>\n",
              "      <td>?</td>\n",
              "      <td>0.43</td>\n",
              "    </tr>\n",
              "    <tr>\n",
              "      <th>3</th>\n",
              "      <td>34</td>\n",
              "      <td>5</td>\n",
              "      <td>81440</td>\n",
              "      <td>Willingborotownship</td>\n",
              "      <td>1</td>\n",
              "      <td>0.04</td>\n",
              "      <td>0.77</td>\n",
              "      <td>1.00</td>\n",
              "      <td>0.08</td>\n",
              "      <td>0.12</td>\n",
              "      <td>0.10</td>\n",
              "      <td>0.51</td>\n",
              "      <td>0.50</td>\n",
              "      <td>0.34</td>\n",
              "      <td>0.21</td>\n",
              "      <td>0.06</td>\n",
              "      <td>1.0</td>\n",
              "      <td>0.58</td>\n",
              "      <td>0.89</td>\n",
              "      <td>0.21</td>\n",
              "      <td>0.43</td>\n",
              "      <td>0.36</td>\n",
              "      <td>0.20</td>\n",
              "      <td>0.82</td>\n",
              "      <td>0.51</td>\n",
              "      <td>0.36</td>\n",
              "      <td>0.40</td>\n",
              "      <td>0.39</td>\n",
              "      <td>0.16</td>\n",
              "      <td>0.25</td>\n",
              "      <td>0.36</td>\n",
              "      <td>0.44</td>\n",
              "      <td>0.01</td>\n",
              "      <td>0.10</td>\n",
              "      <td>0.09</td>\n",
              "      <td>0.25</td>\n",
              "      <td>0.31</td>\n",
              "      <td>0.33</td>\n",
              "      <td>0.71</td>\n",
              "      <td>0.36</td>\n",
              "      <td>...</td>\n",
              "      <td>0.70</td>\n",
              "      <td>0.77</td>\n",
              "      <td>0.89</td>\n",
              "      <td>0.63</td>\n",
              "      <td>0.51</td>\n",
              "      <td>0.47</td>\n",
              "      <td>0.00</td>\n",
              "      <td>0.0</td>\n",
              "      <td>0.19</td>\n",
              "      <td>0.30</td>\n",
              "      <td>0.73</td>\n",
              "      <td>0.64</td>\n",
              "      <td>0.65</td>\n",
              "      <td>?</td>\n",
              "      <td>?</td>\n",
              "      <td>?</td>\n",
              "      <td>?</td>\n",
              "      <td>?</td>\n",
              "      <td>?</td>\n",
              "      <td>?</td>\n",
              "      <td>?</td>\n",
              "      <td>?</td>\n",
              "      <td>?</td>\n",
              "      <td>?</td>\n",
              "      <td>?</td>\n",
              "      <td>?</td>\n",
              "      <td>?</td>\n",
              "      <td>?</td>\n",
              "      <td>?</td>\n",
              "      <td>?</td>\n",
              "      <td>0.02</td>\n",
              "      <td>0.39</td>\n",
              "      <td>0.28</td>\n",
              "      <td>?</td>\n",
              "      <td>?</td>\n",
              "      <td>?</td>\n",
              "      <td>?</td>\n",
              "      <td>0.00</td>\n",
              "      <td>?</td>\n",
              "      <td>0.12</td>\n",
              "    </tr>\n",
              "    <tr>\n",
              "      <th>4</th>\n",
              "      <td>42</td>\n",
              "      <td>95</td>\n",
              "      <td>6096</td>\n",
              "      <td>Bethlehemtownship</td>\n",
              "      <td>1</td>\n",
              "      <td>0.01</td>\n",
              "      <td>0.55</td>\n",
              "      <td>0.02</td>\n",
              "      <td>0.95</td>\n",
              "      <td>0.09</td>\n",
              "      <td>0.05</td>\n",
              "      <td>0.38</td>\n",
              "      <td>0.38</td>\n",
              "      <td>0.23</td>\n",
              "      <td>0.36</td>\n",
              "      <td>0.02</td>\n",
              "      <td>0.9</td>\n",
              "      <td>0.50</td>\n",
              "      <td>0.72</td>\n",
              "      <td>0.16</td>\n",
              "      <td>0.68</td>\n",
              "      <td>0.44</td>\n",
              "      <td>0.11</td>\n",
              "      <td>0.71</td>\n",
              "      <td>0.46</td>\n",
              "      <td>0.43</td>\n",
              "      <td>0.41</td>\n",
              "      <td>0.28</td>\n",
              "      <td>0.00</td>\n",
              "      <td>0.74</td>\n",
              "      <td>0.51</td>\n",
              "      <td>0.48</td>\n",
              "      <td>0.00</td>\n",
              "      <td>0.06</td>\n",
              "      <td>0.25</td>\n",
              "      <td>0.30</td>\n",
              "      <td>0.33</td>\n",
              "      <td>0.12</td>\n",
              "      <td>0.65</td>\n",
              "      <td>0.67</td>\n",
              "      <td>...</td>\n",
              "      <td>0.36</td>\n",
              "      <td>0.38</td>\n",
              "      <td>0.38</td>\n",
              "      <td>0.22</td>\n",
              "      <td>0.51</td>\n",
              "      <td>0.21</td>\n",
              "      <td>0.00</td>\n",
              "      <td>0.0</td>\n",
              "      <td>0.11</td>\n",
              "      <td>0.72</td>\n",
              "      <td>0.64</td>\n",
              "      <td>0.61</td>\n",
              "      <td>0.53</td>\n",
              "      <td>?</td>\n",
              "      <td>?</td>\n",
              "      <td>?</td>\n",
              "      <td>?</td>\n",
              "      <td>?</td>\n",
              "      <td>?</td>\n",
              "      <td>?</td>\n",
              "      <td>?</td>\n",
              "      <td>?</td>\n",
              "      <td>?</td>\n",
              "      <td>?</td>\n",
              "      <td>?</td>\n",
              "      <td>?</td>\n",
              "      <td>?</td>\n",
              "      <td>?</td>\n",
              "      <td>?</td>\n",
              "      <td>?</td>\n",
              "      <td>0.04</td>\n",
              "      <td>0.09</td>\n",
              "      <td>0.02</td>\n",
              "      <td>?</td>\n",
              "      <td>?</td>\n",
              "      <td>?</td>\n",
              "      <td>?</td>\n",
              "      <td>0.00</td>\n",
              "      <td>?</td>\n",
              "      <td>0.03</td>\n",
              "    </tr>\n",
              "  </tbody>\n",
              "</table>\n",
              "<p>5 rows × 128 columns</p>\n",
              "</div>"
            ],
            "text/plain": [
              "   state county  ... PolicBudgPerPop ViolentCrimesPerPop\n",
              "0      8      ?  ...            0.14                0.20\n",
              "1     53      ?  ...               ?                0.67\n",
              "2     24      ?  ...               ?                0.43\n",
              "3     34      5  ...               ?                0.12\n",
              "4     42     95  ...               ?                0.03\n",
              "\n",
              "[5 rows x 128 columns]"
            ]
          },
          "metadata": {
            "tags": []
          },
          "execution_count": 7
        }
      ]
    },
    {
      "cell_type": "markdown",
      "metadata": {
        "id": "zvyZTF6HFgvE"
      },
      "source": [
        "Let's now remove the non-predictive columns:"
      ]
    },
    {
      "cell_type": "code",
      "metadata": {
        "colab": {
          "base_uri": "https://localhost:8080/"
        },
        "id": "C5XGjbiGFgvF",
        "outputId": "eb1c7736-9ef3-4221-b307-0020367aba5e"
      },
      "source": [
        "df = df.drop([\"state\", \"county\", \"community\", \"communityname\", \"fold\"], axis=1)\n",
        "df.shape"
      ],
      "execution_count": null,
      "outputs": [
        {
          "output_type": "execute_result",
          "data": {
            "text/plain": [
              "(1994, 123)"
            ]
          },
          "metadata": {
            "tags": []
          },
          "execution_count": 8
        }
      ]
    },
    {
      "cell_type": "markdown",
      "metadata": {
        "id": "bOEdET6AFgvG"
      },
      "source": [
        "## Data Processing"
      ]
    },
    {
      "cell_type": "markdown",
      "metadata": {
        "id": "0LpO5Ev0FgvG"
      },
      "source": [
        "Before moving on to the GA, it's importante to make sure that any missing values have been dealt with. In this dataset, missing values are represented with a question mark. "
      ]
    },
    {
      "cell_type": "code",
      "metadata": {
        "id": "PWX7FU_vFgvG"
      },
      "source": [
        "missing_value_rows = []\n",
        "for i in range(df.shape[0]):\n",
        "    if \"?\" in list(df.iloc[i].values):\n",
        "        missing_value_rows.append(i)"
      ],
      "execution_count": null,
      "outputs": []
    },
    {
      "cell_type": "code",
      "metadata": {
        "colab": {
          "base_uri": "https://localhost:8080/"
        },
        "id": "p9k9x1GBFgvH",
        "outputId": "bf426e45-f52d-453e-cb8a-5c33cf4d340e"
      },
      "source": [
        "print(\"Total rows: \" + str(df.shape[0]))\n",
        "print(\"Rows with missing values: \" + str(len(missing_value_rows)))"
      ],
      "execution_count": null,
      "outputs": [
        {
          "output_type": "stream",
          "text": [
            "Total rows: 1994\n",
            "Rows with missing values: 1675\n"
          ],
          "name": "stdout"
        }
      ]
    },
    {
      "cell_type": "markdown",
      "metadata": {
        "id": "yBAFs2PrFgvI"
      },
      "source": [
        "As seen above, most rows contain missing values, meaning we can't just get rid of all of them. Let's see what columns have the most missing values. "
      ]
    },
    {
      "cell_type": "code",
      "metadata": {
        "colab": {
          "base_uri": "https://localhost:8080/"
        },
        "id": "R56BL560FgvI",
        "outputId": "5115aa1d-2c0b-4419-80a6-c9b68329544a"
      },
      "source": [
        "missing_per_row = []\n",
        "for column in df.columns:\n",
        "    try:\n",
        "        count = df[df[column] == \"?\"].shape[0]\n",
        "    except Exception:\n",
        "        count = 0\n",
        "    missing_per_row.append((column, count))\n",
        "sorted(missing_per_row, key=lambda tup: tup[1], reverse=True)"
      ],
      "execution_count": null,
      "outputs": [
        {
          "output_type": "execute_result",
          "data": {
            "text/plain": [
              "[('LemasSwornFT', 1675),\n",
              " ('LemasSwFTPerPop', 1675),\n",
              " ('LemasSwFTFieldOps', 1675),\n",
              " ('LemasSwFTFieldPerPop', 1675),\n",
              " ('LemasTotalReq', 1675),\n",
              " ('LemasTotReqPerPop', 1675),\n",
              " ('PolicReqPerOffic', 1675),\n",
              " ('PolicPerPop', 1675),\n",
              " ('RacialMatchCommPol', 1675),\n",
              " ('PctPolicWhite', 1675),\n",
              " ('PctPolicBlack', 1675),\n",
              " ('PctPolicHisp', 1675),\n",
              " ('PctPolicAsian', 1675),\n",
              " ('PctPolicMinor', 1675),\n",
              " ('OfficAssgnDrugUnits', 1675),\n",
              " ('NumKindsDrugsSeiz', 1675),\n",
              " ('PolicAveOTWorked', 1675),\n",
              " ('PolicCars', 1675),\n",
              " ('PolicOperBudg', 1675),\n",
              " ('LemasPctPolicOnPatr', 1675),\n",
              " ('LemasGangUnitDeploy', 1675),\n",
              " ('PolicBudgPerPop', 1675),\n",
              " ('OtherPerCap', 1),\n",
              " ('population', 0),\n",
              " ('householdsize', 0),\n",
              " ('racepctblack', 0),\n",
              " ('racePctWhite', 0),\n",
              " ('racePctAsian', 0),\n",
              " ('racePctHisp', 0),\n",
              " ('agePct12t21', 0),\n",
              " ('agePct12t29', 0),\n",
              " ('agePct16t24', 0),\n",
              " ('agePct65up', 0),\n",
              " ('numbUrban', 0),\n",
              " ('pctUrban', 0),\n",
              " ('medIncome', 0),\n",
              " ('pctWWage', 0),\n",
              " ('pctWFarmSelf', 0),\n",
              " ('pctWInvInc', 0),\n",
              " ('pctWSocSec', 0),\n",
              " ('pctWPubAsst', 0),\n",
              " ('pctWRetire', 0),\n",
              " ('medFamInc', 0),\n",
              " ('perCapInc', 0),\n",
              " ('whitePerCap', 0),\n",
              " ('blackPerCap', 0),\n",
              " ('indianPerCap', 0),\n",
              " ('AsianPerCap', 0),\n",
              " ('HispPerCap', 0),\n",
              " ('NumUnderPov', 0),\n",
              " ('PctPopUnderPov', 0),\n",
              " ('PctLess9thGrade', 0),\n",
              " ('PctNotHSGrad', 0),\n",
              " ('PctBSorMore', 0),\n",
              " ('PctUnemployed', 0),\n",
              " ('PctEmploy', 0),\n",
              " ('PctEmplManu', 0),\n",
              " ('PctEmplProfServ', 0),\n",
              " ('PctOccupManu', 0),\n",
              " ('PctOccupMgmtProf', 0),\n",
              " ('MalePctDivorce', 0),\n",
              " ('MalePctNevMarr', 0),\n",
              " ('FemalePctDiv', 0),\n",
              " ('TotalPctDiv', 0),\n",
              " ('PersPerFam', 0),\n",
              " ('PctFam2Par', 0),\n",
              " ('PctKids2Par', 0),\n",
              " ('PctYoungKids2Par', 0),\n",
              " ('PctTeen2Par', 0),\n",
              " ('PctWorkMomYoungKids', 0),\n",
              " ('PctWorkMom', 0),\n",
              " ('NumIlleg', 0),\n",
              " ('PctIlleg', 0),\n",
              " ('NumImmig', 0),\n",
              " ('PctImmigRecent', 0),\n",
              " ('PctImmigRec5', 0),\n",
              " ('PctImmigRec8', 0),\n",
              " ('PctImmigRec10', 0),\n",
              " ('PctRecentImmig', 0),\n",
              " ('PctRecImmig5', 0),\n",
              " ('PctRecImmig8', 0),\n",
              " ('PctRecImmig10', 0),\n",
              " ('PctSpeakEnglOnly', 0),\n",
              " ('PctNotSpeakEnglWell', 0),\n",
              " ('PctLargHouseFam', 0),\n",
              " ('PctLargHouseOccup', 0),\n",
              " ('PersPerOccupHous', 0),\n",
              " ('PersPerOwnOccHous', 0),\n",
              " ('PersPerRentOccHous', 0),\n",
              " ('PctPersOwnOccup', 0),\n",
              " ('PctPersDenseHous', 0),\n",
              " ('PctHousLess3BR', 0),\n",
              " ('MedNumBR', 0),\n",
              " ('HousVacant', 0),\n",
              " ('PctHousOccup', 0),\n",
              " ('PctHousOwnOcc', 0),\n",
              " ('PctVacantBoarded', 0),\n",
              " ('PctVacMore6Mos', 0),\n",
              " ('MedYrHousBuilt', 0),\n",
              " ('PctHousNoPhone', 0),\n",
              " ('PctWOFullPlumb', 0),\n",
              " ('OwnOccLowQuart', 0),\n",
              " ('OwnOccMedVal', 0),\n",
              " ('OwnOccHiQuart', 0),\n",
              " ('RentLowQ', 0),\n",
              " ('RentMedian', 0),\n",
              " ('RentHighQ', 0),\n",
              " ('MedRent', 0),\n",
              " ('MedRentPctHousInc', 0),\n",
              " ('MedOwnCostPctInc', 0),\n",
              " ('MedOwnCostPctIncNoMtg', 0),\n",
              " ('NumInShelters', 0),\n",
              " ('NumStreet', 0),\n",
              " ('PctForeignBorn', 0),\n",
              " ('PctBornSameState', 0),\n",
              " ('PctSameHouse85', 0),\n",
              " ('PctSameCity85', 0),\n",
              " ('PctSameState85', 0),\n",
              " ('LandArea', 0),\n",
              " ('PopDens', 0),\n",
              " ('PctUsePubTrans', 0),\n",
              " ('LemasPctOfficDrugUn', 0),\n",
              " ('ViolentCrimesPerPop', 0)]"
            ]
          },
          "metadata": {
            "tags": []
          },
          "execution_count": 11
        }
      ]
    },
    {
      "cell_type": "markdown",
      "metadata": {
        "id": "h6bmu5SuFgvJ"
      },
      "source": [
        "Seeing that most columns have no missing values and some columns have almost all missing values, it's best to just disregard such rows altogether and continue with the experiment. We will also drop the row with missing \"OtherPerCap\" information, but keep the column. "
      ]
    },
    {
      "cell_type": "code",
      "metadata": {
        "colab": {
          "base_uri": "https://localhost:8080/"
        },
        "id": "qyKg3zjVFgvJ",
        "outputId": "df461ae2-6fec-42e3-817f-a0b98104a416"
      },
      "source": [
        "df = df[df[\"OtherPerCap\"] != \"?\"]\n",
        "columns_to_drop = [column for column, count in missing_per_row if count == 1675]\n",
        "df = df.drop(columns_to_drop, axis=1)\n",
        "df.shape"
      ],
      "execution_count": null,
      "outputs": [
        {
          "output_type": "execute_result",
          "data": {
            "text/plain": [
              "(1993, 101)"
            ]
          },
          "metadata": {
            "tags": []
          },
          "execution_count": 12
        }
      ]
    },
    {
      "cell_type": "markdown",
      "metadata": {
        "id": "jtB97N4JFgvK"
      },
      "source": [
        "We're left with 1993 rows, 100 features and 1 label."
      ]
    },
    {
      "cell_type": "markdown",
      "metadata": {
        "id": "z-a2GO-tFgvK"
      },
      "source": [
        "## Genetic Algorithm"
      ]
    },
    {
      "cell_type": "markdown",
      "metadata": {
        "id": "tGrPgG0HFgvK"
      },
      "source": [
        "The idea of the GA is simple: we'll build a binary array of 122 positions, one for each feature. Each bit will indicate if the corresponding feature should be used or not.\n",
        "  * **arr[i] == 0**: Leave out feature i\n",
        "  * **arr[i] == 1**: Include feature i\n",
        "\n",
        "We will create an initial population of N arrays, each with a random number of 0s and 1s, and we'll use evolution to find out what features bring about the best resuts."
      ]
    },
    {
      "cell_type": "markdown",
      "metadata": {
        "id": "9TugFxoGFgvL"
      },
      "source": [
        "### Fitness and Comparision"
      ]
    },
    {
      "cell_type": "markdown",
      "metadata": {
        "id": "sq7xrnlBFgvL"
      },
      "source": [
        "We will compare individuals in our GA through a measure of fitness based on how well scikit-learn's standard RandomForestRegressor performs when trained using that specific individual's feature selection. We will measure the regressor's performance using the root mean squared error, and define fitness as 100 / that error in order to make sure fitness values are large and that better individuals have higher feature values."
      ]
    },
    {
      "cell_type": "markdown",
      "metadata": {
        "id": "9FFG7jBUFgvM"
      },
      "source": [
        "First of all, we need to establish training and test sets."
      ]
    },
    {
      "cell_type": "code",
      "metadata": {
        "id": "6eHY_b6iFgvM"
      },
      "source": [
        "X = df.drop(\"ViolentCrimesPerPop\", axis=1)\n",
        "y = df[\"ViolentCrimesPerPop\"]\n",
        "X_train, X_test, y_train, y_test = train_test_split(X, y, train_size=0.8, random_state=42)"
      ],
      "execution_count": null,
      "outputs": []
    },
    {
      "cell_type": "markdown",
      "metadata": {
        "id": "PLhb8FHnFgvM"
      },
      "source": [
        "Now, we can build our fitness function:"
      ]
    },
    {
      "cell_type": "code",
      "metadata": {
        "id": "Lts5JTPdFgvN"
      },
      "source": [
        "def get_fitness(individual):\n",
        "    rg = RandomForestRegressor(random_state=42)\n",
        "    columns = [column for (column, binary_value) in zip(X_train.columns, individual) if binary_value]\n",
        "    training_set = X_train[columns]\n",
        "    test_set = X_test[columns]\n",
        "    rg.fit(training_set.to_numpy(), y_train.values)\n",
        "    preds = rg.predict(test_set.to_numpy())\n",
        "    return 100 / np.sqrt(mean_squared_error(y_test.values, preds))"
      ],
      "execution_count": null,
      "outputs": []
    },
    {
      "cell_type": "markdown",
      "metadata": {
        "id": "LEnqtvQnFgvN"
      },
      "source": [
        "And let's take down some baselines. The first, the fitness the model gets using all features:"
      ]
    },
    {
      "cell_type": "code",
      "metadata": {
        "colab": {
          "base_uri": "https://localhost:8080/"
        },
        "id": "zWIryv3LFgvN",
        "outputId": "126b195c-a7f0-4418-ab8f-7a485acac0f3"
      },
      "source": [
        "individual = [1] * 100\n",
        "get_fitness(individual)"
      ],
      "execution_count": null,
      "outputs": [
        {
          "output_type": "execute_result",
          "data": {
            "text/plain": [
              "697.358379157041"
            ]
          },
          "metadata": {
            "tags": []
          },
          "execution_count": 15
        }
      ]
    },
    {
      "cell_type": "markdown",
      "metadata": {
        "id": "cmXcughjFgvO"
      },
      "source": [
        "Now, let's get the score of a random feature selection:"
      ]
    },
    {
      "cell_type": "code",
      "metadata": {
        "colab": {
          "base_uri": "https://localhost:8080/"
        },
        "id": "YnMN5oy-FgvO",
        "outputId": "b63a8f60-959d-46f7-fd9c-ca33977c0fe5"
      },
      "source": [
        "random_individual = [random.randint(0, 1) for i in range(100)]\n",
        "get_fitness(random_individual)"
      ],
      "execution_count": null,
      "outputs": [
        {
          "output_type": "execute_result",
          "data": {
            "text/plain": [
              "714.6204866356428"
            ]
          },
          "metadata": {
            "tags": []
          },
          "execution_count": 16
        }
      ]
    },
    {
      "cell_type": "markdown",
      "metadata": {
        "id": "FRsF0rsFFgvP"
      },
      "source": [
        "Interesting! The random individual and the full features have very similar fitness. Let's see how much better our GA can get. "
      ]
    },
    {
      "cell_type": "markdown",
      "metadata": {
        "id": "ksmngy5kFgvP"
      },
      "source": [
        "The population will be represented as a list of 2-dimensional tuples, their first attribute being the individual itself (the binary array) and the second the individual's fitness. Let's build a function that, given a number of individuals, returns their population and fitness array sorted in descending order."
      ]
    },
    {
      "cell_type": "code",
      "metadata": {
        "id": "lyxrPDUzFgvQ"
      },
      "source": [
        "def get_population_fitness(population):\n",
        "    return sorted([(individual, get_fitness(individual)) for individual in population], key=lambda tup: tup[1], reverse=True)"
      ],
      "execution_count": null,
      "outputs": []
    },
    {
      "cell_type": "markdown",
      "metadata": {
        "id": "vpc1Jk5PFgvQ"
      },
      "source": [
        "### Genetic Operators"
      ]
    },
    {
      "cell_type": "markdown",
      "metadata": {
        "id": "Ey3SHA1zFgvQ"
      },
      "source": [
        "Each iteration, we'll have a population of 20 individuals, based on which the next generation will be formed through the genetic operators as follows:\n",
        "  * **Elitism:** The fittest candidate will continue on to the next generation\n",
        "  * **Randomness**: One candidate will be selected completely randomly\n",
        "  * **Tournaments**: There will be 9 tournaments of 5 randomly selected individuals. In each tournament, two individuals will be chosen (with likelihood of being choosen proportionate to their fitness) for **crossover**. The crossover will split them at a random spot and combine them.\n",
        "  * **Mutation**: Finally, once the new population is formed, each individual will have a very small chance (1 in a thousand) of suffering mutation (having one random bit flipped). "
      ]
    },
    {
      "cell_type": "code",
      "metadata": {
        "id": "3FSQQwrfFgvR"
      },
      "source": [
        "def crossover(individual_a, individual_b):\n",
        "    crossing_point = random.randint(0, 99)\n",
        "    offspring_a = individual_a[0:crossing_point] + individual_b[crossing_point:100]\n",
        "    offspring_b = individual_b[0:crossing_point] + individual_a[crossing_point:100]\n",
        "    return offspring_a, offspring_b\n",
        "\n",
        "def tournament(current_population):\n",
        "    index = sorted(random.sample(range(0, 20), 5))\n",
        "    tournament_members  = [current_population[i] for i in index]\n",
        "    total_fitness = sum([individual[1] for individual in tournament_members])\n",
        "    probabilities = [individual[1] / total_fitness for individual in tournament_members]\n",
        "    index_a, index_b = np.random.choice(5, size=2, p=probabilities)\n",
        "    return crossover(tournament_members[index_a][0], tournament_members[index_b][0])\n",
        "\n",
        "def mutation(individual):\n",
        "    mutation_point = random.randint(0, 99)\n",
        "    if(individual[mutation_point]):\n",
        "        individual[mutation_point] = 0\n",
        "    else:\n",
        "        individual[mutation_point] = 1\n",
        "\n",
        "def build_next_generation(current_population, mutation_rate):\n",
        "    next_generation = []\n",
        "    next_generation.append(current_population[0][0]) # elitism\n",
        "    next_generation.append(current_population[random.randint(1,19)][0]) # randomness\n",
        "    \n",
        "    for i in range(9): # tournaments\n",
        "        offspring_a, offspring_b = tournament(current_population)\n",
        "        next_generation.append(offspring_a)\n",
        "        next_generation.append(offspring_b)\n",
        "    \n",
        "    for individual in next_generation: # mutation\n",
        "        if(random.randint(1,mutation_rate) == 1):\n",
        "            mutation(individual)\n",
        "    return next_generation\n",
        "    \n",
        "    "
      ],
      "execution_count": null,
      "outputs": []
    },
    {
      "cell_type": "markdown",
      "metadata": {
        "id": "AHpTx3HnFgvR"
      },
      "source": [
        "### Running the GA"
      ]
    },
    {
      "cell_type": "markdown",
      "metadata": {
        "id": "yIaiKIaBFgvS"
      },
      "source": [
        "First, let's create a function that runs the GA given an initial population and a number of generations"
      ]
    },
    {
      "cell_type": "code",
      "metadata": {
        "id": "pn91SWQ4FgvS"
      },
      "source": [
        "def run_ga(current_population, num_of_generations, mutation_rate=1000):\n",
        "    fittest_individuals = []\n",
        "    for i in range(num_of_generations):\n",
        "        current_population = get_population_fitness(current_population) # get pop fitness\n",
        "        fittest_individuals.append(current_population[0]) # record fittest individual (for graphing and analysis)\n",
        "        current_population = build_next_generation(current_population, mutation_rate) # make new population\n",
        "    return fittest_individuals\n",
        "        "
      ],
      "execution_count": null,
      "outputs": []
    },
    {
      "cell_type": "markdown",
      "metadata": {
        "id": "pXOYLBT_FgvS"
      },
      "source": [
        "Now, let's generate an initial random population and make an initial run with 100 generations and see what results we get"
      ]
    },
    {
      "cell_type": "code",
      "metadata": {
        "id": "VwN5iGP_FgvS"
      },
      "source": [
        "initial_population = [[random.randint(0, 1) for i in range(100)] for i in range(20)]"
      ],
      "execution_count": null,
      "outputs": []
    },
    {
      "cell_type": "code",
      "metadata": {
        "id": "BsgrG5wEFgvT"
      },
      "source": [
        "fittest = run_ga(initial_population, 100)"
      ],
      "execution_count": null,
      "outputs": []
    },
    {
      "cell_type": "code",
      "metadata": {
        "colab": {
          "base_uri": "https://localhost:8080/",
          "height": 282
        },
        "id": "UOmwN1BQFgvT",
        "outputId": "9ce07b52-3270-4441-938a-e3862a4c4243"
      },
      "source": [
        "%matplotlib inline\n",
        "fitness = [ind[1] for ind in fittest]\n",
        "#sb.lineplot(x=fitness)\n",
        "sb.lineplot(data=fitness)"
      ],
      "execution_count": null,
      "outputs": [
        {
          "output_type": "execute_result",
          "data": {
            "text/plain": [
              "<matplotlib.axes._subplots.AxesSubplot at 0x7f1a4cc47990>"
            ]
          },
          "metadata": {
            "tags": []
          },
          "execution_count": 35
        },
        {
          "output_type": "display_data",
          "data": {
            "image/png": "[encoded data removed]",
            "text/plain": [
              "<Figure size 432x288 with 1 Axes>"
            ]
          },
          "metadata": {
            "tags": [],
            "needs_background": "light"
          }
        }
      ]
    },
    {
      "cell_type": "markdown",
      "metadata": {
        "id": "2P1RI51_FgvT"
      },
      "source": [
        "Good! The GA seems to be working, as can be noticed by the clear increasing trend shown by the graph. Still, the stairs-resembling image shows that the maximum fitness often gets stuck in plateaus before moving upwards. This may mean we're not getting enough genetic diversity. Let's try to repair this by increasing mutation rates."
      ]
    },
    {
      "cell_type": "code",
      "metadata": {
        "id": "uQ0qEbdZFgvU"
      },
      "source": [
        "#print(\"Top fitness without increased mutation: \" + str(fitness[-1]))"
      ],
      "execution_count": null,
      "outputs": []
    },
    {
      "cell_type": "markdown",
      "metadata": {
        "id": "n5k3KN2mFgvV"
      },
      "source": [
        "As we can see, raising the mutation probability ended up making even larger plateaus, and the final fitness highscore was slighly worse. Let's see what happens if we make mutations even more common. "
      ]
    },
    {
      "cell_type": "code",
      "metadata": {
        "id": "lHDf2DwuFgvV"
      },
      "source": [
        "high_mutation_fittest = run_ga(initial_population, 100, mutation_rate=5) # one in five will suffer mutation!"
      ],
      "execution_count": null,
      "outputs": []
    },
    {
      "cell_type": "code",
      "metadata": {
        "colab": {
          "base_uri": "https://localhost:8080/",
          "height": 282
        },
        "id": "Tkp6yypZFgvW",
        "outputId": "56dda1a1-af66-4f02-a047-8347a244c75e"
      },
      "source": [
        "high_mutation_fitness = [ind[1] for ind in high_mutation_fittest]\n",
        "sb.lineplot(data=high_mutation_fitness)"
      ],
      "execution_count": null,
      "outputs": [
        {
          "output_type": "execute_result",
          "data": {
            "text/plain": [
              "<matplotlib.axes._subplots.AxesSubplot at 0x7f254bd87350>"
            ]
          },
          "metadata": {
            "tags": []
          },
          "execution_count": 22
        },
        {
          "output_type": "display_data",
          "data": {
            "image/png": "[encoded data removed]",
            "text/plain": [
              "<Figure size 432x288 with 1 Axes>"
            ]
          },
          "metadata": {
            "tags": [],
            "needs_background": "light"
          }
        }
      ]
    },
    {
      "cell_type": "code",
      "metadata": {
        "colab": {
          "base_uri": "https://localhost:8080/"
        },
        "id": "VMdTPq-SFgvW",
        "outputId": "60da9160-046f-462d-eb16-56188cba4956"
      },
      "source": [
        "#print(\"Top fitness without increased mutation: \" + str(fitness[-1]))\n",
        "#print(\"Top fitness with increased mutation: \" + str(mutation_fitness[-1]))\n",
        "print(\"Top fitness with extreme mutation: \" + str(max(high_mutation_fitness)))"
      ],
      "execution_count": null,
      "outputs": [
        {
          "output_type": "stream",
          "text": [
            "Top fitness with extreme mutation: 738.6481853570341\n"
          ],
          "name": "stdout"
        }
      ]
    },
    {
      "cell_type": "markdown",
      "metadata": {
        "id": "kqhiJs-2FgvX"
      },
      "source": [
        "Wow! Clearly making mutation so common made the algorithm have a lot more ups and downs, but it did at some point beat the best solution found by the last two experiment. It's also interesting to see that very significant drop around generation 90. Knowing that we have elitism in place, the only thing that could have caused that gigantic drop was a mutation, meaning that a single bit (corresponding to a single feature) change was responsible for that. This feature must be very significant. \n",
        "<br> Unfortunately, since we only recorded the top performers and not the entire populations, we have no guarantee that we'll be able to find which bit caused the drop (the drop caused by the bit flip might have so big that another individual ended up becoming the top performer)."
      ]
    },
    {
      "cell_type": "markdown",
      "metadata": {
        "id": "qz8r05NmFgvX"
      },
      "source": [
        "## Analyzing Results"
      ]
    },
    {
      "cell_type": "markdown",
      "metadata": {
        "id": "v_dKF1f8FgvX"
      },
      "source": [
        "Let's now see which features our top performer chose!"
      ]
    },
    {
      "cell_type": "code",
      "metadata": {
        "id": "KMdcq7IgFgvY"
      },
      "source": [
        "for item in high_mutation_fittest[:-1]:\n",
        "    if item[1] == max(high_mutation_fitness):\n",
        "        top_performer = item\n",
        "        break"
      ],
      "execution_count": null,
      "outputs": []
    },
    {
      "cell_type": "code",
      "metadata": {
        "colab": {
          "base_uri": "https://localhost:8080/"
        },
        "id": "EQ-5pcbhFgvY",
        "outputId": "587b3429-6775-422c-f5d0-bb13a4931029"
      },
      "source": [
        "print(\"Total features included: \" + str(top_performer[0].count(1)))"
      ],
      "execution_count": null,
      "outputs": [
        {
          "output_type": "stream",
          "text": [
            "Total features included: 41\n"
          ],
          "name": "stdout"
        }
      ]
    },
    {
      "cell_type": "code",
      "metadata": {
        "id": "3Tvv1764FgvY"
      },
      "source": [
        "included_columns = [column for (column, binary_value) in zip(X.columns, top_performer[0]) if binary_value]\n",
        "excluded_columns = [column for (column, binary_value) in zip(X.columns, top_performer[0]) if not binary_value]"
      ],
      "execution_count": null,
      "outputs": []
    },
    {
      "cell_type": "code",
      "metadata": {
        "colab": {
          "base_uri": "https://localhost:8080/"
        },
        "id": "8Pr5HVZIFgvZ",
        "outputId": "fe7c8d4c-2bc1-442c-90f2-6966d432a23b"
      },
      "source": [
        "included_columns"
      ],
      "execution_count": null,
      "outputs": [
        {
          "output_type": "execute_result",
          "data": {
            "text/plain": [
              "['population',\n",
              " 'racepctblack',\n",
              " 'racePctWhite',\n",
              " 'racePctHisp',\n",
              " 'agePct12t21',\n",
              " 'agePct16t24',\n",
              " 'pctUrban',\n",
              " 'medFamInc',\n",
              " 'perCapInc',\n",
              " 'blackPerCap',\n",
              " 'OtherPerCap',\n",
              " 'HispPerCap',\n",
              " 'PctBSorMore',\n",
              " 'PctEmplManu',\n",
              " 'PctEmplProfServ',\n",
              " 'PctOccupManu',\n",
              " 'PctKids2Par',\n",
              " 'PctYoungKids2Par',\n",
              " 'NumIlleg',\n",
              " 'PctIlleg',\n",
              " 'PctImmigRecent',\n",
              " 'PctRecImmig5',\n",
              " 'PctRecImmig10',\n",
              " 'PctSpeakEnglOnly',\n",
              " 'PersPerOccupHous',\n",
              " 'PersPerRentOccHous',\n",
              " 'PctPersOwnOccup',\n",
              " 'PctHousLess3BR',\n",
              " 'HousVacant',\n",
              " 'MedYrHousBuilt',\n",
              " 'PctHousNoPhone',\n",
              " 'OwnOccLowQuart',\n",
              " 'OwnOccMedVal',\n",
              " 'RentMedian',\n",
              " 'MedRentPctHousInc',\n",
              " 'MedOwnCostPctInc',\n",
              " 'MedOwnCostPctIncNoMtg',\n",
              " 'NumStreet',\n",
              " 'PctSameHouse85',\n",
              " 'PctSameCity85',\n",
              " 'PctUsePubTrans']"
            ]
          },
          "metadata": {
            "tags": []
          },
          "execution_count": 27
        }
      ]
    },
    {
      "cell_type": "code",
      "metadata": {
        "colab": {
          "base_uri": "https://localhost:8080/"
        },
        "id": "69-XloKJFgvZ",
        "outputId": "0290a53d-76cb-49da-948d-fb7a22470e4d"
      },
      "source": [
        "excluded_columns"
      ],
      "execution_count": null,
      "outputs": [
        {
          "output_type": "execute_result",
          "data": {
            "text/plain": [
              "['householdsize',\n",
              " 'racePctAsian',\n",
              " 'agePct12t29',\n",
              " 'agePct65up',\n",
              " 'numbUrban',\n",
              " 'medIncome',\n",
              " 'pctWWage',\n",
              " 'pctWFarmSelf',\n",
              " 'pctWInvInc',\n",
              " 'pctWSocSec',\n",
              " 'pctWPubAsst',\n",
              " 'pctWRetire',\n",
              " 'whitePerCap',\n",
              " 'indianPerCap',\n",
              " 'AsianPerCap',\n",
              " 'NumUnderPov',\n",
              " 'PctPopUnderPov',\n",
              " 'PctLess9thGrade',\n",
              " 'PctNotHSGrad',\n",
              " 'PctUnemployed',\n",
              " 'PctEmploy',\n",
              " 'PctOccupMgmtProf',\n",
              " 'MalePctDivorce',\n",
              " 'MalePctNevMarr',\n",
              " 'FemalePctDiv',\n",
              " 'TotalPctDiv',\n",
              " 'PersPerFam',\n",
              " 'PctFam2Par',\n",
              " 'PctTeen2Par',\n",
              " 'PctWorkMomYoungKids',\n",
              " 'PctWorkMom',\n",
              " 'NumImmig',\n",
              " 'PctImmigRec5',\n",
              " 'PctImmigRec8',\n",
              " 'PctImmigRec10',\n",
              " 'PctRecentImmig',\n",
              " 'PctRecImmig8',\n",
              " 'PctNotSpeakEnglWell',\n",
              " 'PctLargHouseFam',\n",
              " 'PctLargHouseOccup',\n",
              " 'PersPerOwnOccHous',\n",
              " 'PctPersDenseHous',\n",
              " 'MedNumBR',\n",
              " 'PctHousOccup',\n",
              " 'PctHousOwnOcc',\n",
              " 'PctVacantBoarded',\n",
              " 'PctVacMore6Mos',\n",
              " 'PctWOFullPlumb',\n",
              " 'OwnOccHiQuart',\n",
              " 'RentLowQ',\n",
              " 'RentHighQ',\n",
              " 'MedRent',\n",
              " 'NumInShelters',\n",
              " 'PctForeignBorn',\n",
              " 'PctBornSameState',\n",
              " 'PctSameState85',\n",
              " 'LandArea',\n",
              " 'PopDens',\n",
              " 'LemasPctOfficDrugUn']"
            ]
          },
          "metadata": {
            "tags": []
          },
          "execution_count": 28
        }
      ]
    },
    {
      "cell_type": "code",
      "metadata": {
        "id": "UeL7aTHcrS2k"
      },
      "source": [
        ""
      ],
      "execution_count": null,
      "outputs": []
    }
  ]
}
